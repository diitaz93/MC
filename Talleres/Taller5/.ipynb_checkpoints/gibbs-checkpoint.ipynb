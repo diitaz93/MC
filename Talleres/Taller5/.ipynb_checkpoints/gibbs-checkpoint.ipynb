{
 "metadata": {
  "name": ""
 },
 "nbformat": 3,
 "nbformat_minor": 0,
 "worksheets": [
  {
   "cells": [
    {
     "cell_type": "code",
     "collapsed": false,
     "input": [
      "%pylab inline\n",
      "from scipy import optimize"
     ],
     "language": "python",
     "metadata": {},
     "outputs": [
      {
       "output_type": "stream",
       "stream": "stdout",
       "text": [
        "Populating the interactive namespace from numpy and matplotlib\n"
       ]
      }
     ],
     "prompt_number": 1
    },
    {
     "cell_type": "markdown",
     "metadata": {},
     "source": [
      "#Onda cuadrada\n",
      "La onda cuadrada se descomopone en serie de Fourier como:\n",
      "$x_{square}(t)=\\frac{4}{\\pi} \\sum\\limits_{k=1}^\\infty \\frac{sin(2\\pi (2k-1)ft)}{(2k-1)}$\n",
      "$=\\frac{4}{\\pi}(sin(2\\pi ft)+\\frac{1}{3}sin(6\\pi ft)+\\frac{1}{5} sin(10 \\pi ft) + ...)$"
     ]
    },
    {
     "cell_type": "code",
     "collapsed": false,
     "input": [
      "#Determina el n-\u00e9simo t\u00e9rmino de la serie y los suma\n",
      "def cuadr(t,n,f):\n",
      "    suma=0\n",
      "    for i in range(1,n):\n",
      "        suma+=sin(2*pi*(2*i-1)*f*t)/(2*i-1)\n",
      "    return suma"
     ],
     "language": "python",
     "metadata": {},
     "outputs": [],
     "prompt_number": 2
    },
    {
     "cell_type": "code",
     "collapsed": false,
     "input": [
      "t=linspace(0.,2*pi,200)\n",
      "y=cuadr(t,200,pi/8)\n",
      "figure(figsize=(10,6))\n",
      "plot(t,y)\n",
      "show()"
     ],
     "language": "python",
     "metadata": {},
     "outputs": [
      {
       "metadata": {},
       "output_type": "display_data",
       "png": "[encoded data removed]",
       "text": [
        "<matplotlib.figure.Figure at 0x7f9b554f1610>"
       ]
      }
     ],
     "prompt_number": 3
    },
    {
     "cell_type": "code",
     "collapsed": false,
     "input": [
      "bh=optimize.basinhopping(lambda t: cuadr(t,10,pi/4),pi/2)"
     ],
     "language": "python",
     "metadata": {},
     "outputs": [],
     "prompt_number": 4
    },
    {
     "cell_type": "code",
     "collapsed": false,
     "input": [
      "print bh"
     ],
     "language": "python",
     "metadata": {},
     "outputs": [
      {
       "output_type": "stream",
       "stream": "stdout",
       "text": [
        "    nfev: 2844\n",
        "     fun: -0.9267776765717215\n",
        "       x: array([ 26.70266267])\n",
        " message: ['requested number of basinhopping iterations completed successfully']\n",
        "    njev: 948\n",
        "     nit: 100\n"
       ]
      }
     ],
     "prompt_number": 5
    },
    {
     "cell_type": "code",
     "collapsed": false,
     "input": [
      "num=[]\n",
      "roots=[]\n",
      "punt=[]\n",
      "for i in range(1,20):\n",
      "    bh=optimize.basinhopping(lambda t: cuadr(t,5*i,pi/4),pi/2)\n",
      "    roots.append(bh.x)\n",
      "    punt.append(bh.fun)\n",
      "    num.append(5*i)\n",
      "aroots=array(roots)"
     ],
     "language": "python",
     "metadata": {},
     "outputs": [],
     "prompt_number": 6
    },
    {
     "cell_type": "code",
     "collapsed": false,
     "input": [
      "scatter(aroots,punt)"
     ],
     "language": "python",
     "metadata": {},
     "outputs": [
      {
       "metadata": {},
       "output_type": "pyout",
       "prompt_number": 8,
       "text": [
        "<matplotlib.collections.PathCollection at 0x7f9b55425710>"
       ]
      },
      {
       "metadata": {},
       "output_type": "display_data",
       "png": "[encoded data removed]",
       "text": [
        "<matplotlib.figure.Figure at 0x7f9b4fe5b710>"
       ]
      }
     ],
     "prompt_number": 8
    },
    {
     "cell_type": "code",
     "collapsed": false,
     "input": [],
     "language": "python",
     "metadata": {},
     "outputs": []
    }
   ],
   "metadata": {}
  }
 ]
}