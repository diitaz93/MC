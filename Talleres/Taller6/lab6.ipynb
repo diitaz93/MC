{
 "metadata": {
  "name": ""
 },
 "nbformat": 3,
 "nbformat_minor": 0,
 "worksheets": [
  {
   "cells": [
    {
     "cell_type": "markdown",
     "metadata": {},
     "source": [
      "#Taller 6\n",
      "Para este taller se descarga el archivo [running_dirty_nov.gpx](https://raw.githubusercontent.com/ComputoCienciasUniandes/MetodosComputacionalesLaboratorio/master/2015-V/actividades/talleres/Taller6/running_dirty_nov.gpx) y se trata para convertirllo a un formato .csv con valores de longitud y latitud respectivamente"
     ]
    },
    {
     "cell_type": "markdown",
     "metadata": {},
     "source": [
      "Se usa el siguiente codigo para pasar del archivo .gpx a el archivo gps.csv:\n",
      "```\n",
      "grep -E \"lon|time\" running_dirty_nov.gpx | sed 's/ *//g' clean.txt |  sed ':a;N;$!ba;s/\">\\n/,/g' | sed 's/<trkptlon=\"//g' | sed 's/\"lat=\"/,/g' | sed 's/<time>2015-04-18T//g' | sed 's/.000Z<\\/time>//g'| tail -n +2 >gps.csv\n",
      "```"
     ]
    },
    {
     "cell_type": "code",
     "collapsed": false,
     "input": [
      "%pylab inline"
     ],
     "language": "python",
     "metadata": {},
     "outputs": [
      {
       "output_type": "stream",
       "stream": "stdout",
       "text": [
        "Populating the interactive namespace from numpy and matplotlib\n"
       ]
      }
     ],
     "prompt_number": 5
    },
    {
     "cell_type": "code",
     "collapsed": false,
     "input": [
      "data=genfromtxt(\"gps.csv\",delimiter=\",\")\n",
      "theta=data[:,0]\n",
      "lan=data[:,1]\n",
      "time=data[:,2]\n",
      "phi=pi/2-radians(lan)"
     ],
     "language": "python",
     "metadata": {},
     "outputs": [],
     "prompt_number": 10
    },
    {
     "cell_type": "code",
     "collapsed": false,
     "input": [],
     "language": "python",
     "metadata": {},
     "outputs": []
    }
   ],
   "metadata": {}
  }
 ]
}