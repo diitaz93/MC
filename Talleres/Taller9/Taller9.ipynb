{
 "metadata": {
  "name": "",
  "signature": "sha256:ce1f6cfd7cc6cc930272dc4dbaa066c9d84ecefe0a76037c1f42d2861d9771aa"
 },
 "nbformat": 3,
 "nbformat_minor": 0,
 "worksheets": [
  {
   "cells": [
    {
     "cell_type": "markdown",
     "metadata": {},
     "source": [
      "#Taller 9 - Ecuaciones en Derivadas Parciales\n",
      "*M\u00e9todos Computacionales - Laboratorio*\n",
      "\n",
      "14-Jul-2015 & 15-Jul-2015\n",
      "\n",
      "## Ecuaci\u00f3n de Onda con Amortiguamiento 8 \u2735\n",
      "\n",
      "1) \u2735\u2735\u2735 Modifique la soluci\u00f3n de la ecuaci\u00f3n de onda 2D por diferencias finitas para incluir efectos de amortiguamiento. Determine la ecuaci\u00f3n de evoluci\u00f3n modificada y escriba el desarrollo algebraico correspondiente.\n",
      "\n",
      "$$\\frac{\\partial^2 \\psi}{\\partial{x}^2} + 2\\eta \\frac{\\partial\\psi}{\\partial{t}} = \\frac{1}{v^2}\\frac{\\partial^2 \\psi}{\\partial{t}^2}$$\n",
      "    \n",
      "2) \u2735 Programe lo anterior y haga una animaci\u00f3n de lo que le acontece a una deformaci\u00f3n inicial similar a la que hemos utilizado en anteriores ocasiones. Considere una membrana con extremos fijos.\n",
      "\n",
      "3) \u2735\u2735\u2735\u2735 Ahora haga una animaci\u00f3n que simule gotas sobre la superficie de una piscina de agua. Extremos fijos. [Aqu\u00ed](https://github.com/ComputoCienciasUniandes/MetodosComputacionalesLaboratorio/raw/master/2015-V/actividades/talleres/Taller9/pool.mp4) se muestra un ejemplo del resultado esperado donde se usaron los siguientes par\u00e1metros:\n",
      "\n",
      "    # unidades arbitrarias\n",
      "    xmin=-0.5\n",
      "    xmax=0.5\n",
      "    ymin=-0.5\n",
      "    ymax=0.5\n",
      "    dt=1.5e-5\n",
      "    dx=1.0e-2\n",
      "    v=400.\n",
      "    eta=1000.\n",
      "    r=v*dt/dx\n",
      "\n",
      "  **Al terminar la clase del mi\u00e9rcoles ejecute `lottery.sh` para saber si su taller va a ser revisado.**\n"
     ]
    },
    {
     "cell_type": "code",
     "collapsed": false,
     "input": [
      "%pylab inline"
     ],
     "language": "python",
     "metadata": {},
     "outputs": [
      {
       "output_type": "stream",
       "stream": "stdout",
       "text": [
        "Populating the interactive namespace from numpy and matplotlib\n"
       ]
      }
     ],
     "prompt_number": 13
    },
    {
     "cell_type": "markdown",
     "metadata": {},
     "source": [
      "+ Primero se expresan las derivadas en t\u00e9rminos de diferencias finitas:<BR><BR>\n",
      "$$\\frac{\\partial^2\\Psi}{\\partial x^2}=\\frac{\\eta(\\Psi_{i+1,j}^n-2\\Psi _{i,j}^n+\\Psi_{i-1,j}^n)}{(\\Delta x)^2}$$<BR>\n",
      "$$\\frac{\\partial^2\\Psi}{\\partial y^2}=\\frac{\\eta(\\Psi_{i,j+1}^n-2\\Psi _{i,j}^n+\\Psi_{i,j-1}^n)}{(\\Delta y)^2}$$<BR>\n",
      "$$\\frac{1}{v^2}\\frac{\\partial^2\\Psi}{\\partial t^2}=\\frac{1}{v^2}\\frac{\\eta(\\Psi_{i,j}^{n+1}-2\\Psi _{i,j}^n+\\Psi_{i,j}^{n-1})}{(\\Delta t)^2}$$<BR>\n",
      "$$2\\eta\\frac{\\partial \\Psi}{\\partial t}=\\eta\\frac{(\\Psi_{i,j}^{n+1}-\\Psi_{i,j}^{n-1})}{\\Delta t}$$<BR>\n",
      "+ Se reemplazan estos t\u00e9rminos en la ecuaci\u00f3n de onda en 2-D y se despeja el t\u00e9rmino de la funci\u00f3n de onda en el tiempo $n+1$<BR><BR>\n",
      "$$\\Big(\\frac{1}{v^2(\\Delta t)^2}-\\frac{\\eta}{\\Delta t}\\Big)\\Psi_{i,j}^{n+1}=\\frac{1}{(\\Delta y)^2}\\Big(\\Psi_{i,j+1}^n-2\\Psi_{i,j}^n+\\Psi_{i,j-1}^n\\Big)+\\frac{1}{(\\Delta x)^2}\\Big(\\Psi_{i+1,j}^n-2\\Psi_{i,j}^n+\\Psi_{i-1,j}^n\\Big)+\\frac{2}{v^2(\\Delta t)^2}\\Psi_{i,j}^n-\\Big(\\frac{\\eta}{\\Delta t}+\\frac{1}{v^2(\\Delta t)^2}\\Big)\\Psi_{i,j}^{n-1}$$"
     ]
    },
    {
     "cell_type": "markdown",
     "metadata": {},
     "source": [
      "$$\\Psi_{i,j}^{n+1}=\\frac{v\u00b2(\\Delta t)^3}{(\\Delta y)^2\\{\\Delta t - \\eta v^2(\\Delta t)^2\\}}(\\Psi_{i,j+1}^n-2\\Psi_{i,j}^n+\\Psi_{i,j-1}^n) +\\frac{v^2(\\Delta t)^3}{(\\Delta x)^2\\{\\Delta t -\\eta v^2(\\Delta t)^2\\}}(\\Psi_{i+1,j}^n -2\\Psi_{i,j}^n-\\Psi_{i-1,j}^n)+\\frac{2\\Delta t}{\\Delta t -\\eta v^2(\\Delta t)^2}\\Psi_{i,j}^n+\\frac{nv^2\\Delta t+1}{nv^2\\Delta t-1}\\Psi_{i,j}^{n-1}$$<BR>\n",
      "$$Si \\frac{v\u00b2(\\Delta t)^3}{\\Delta t - \\eta v^2(\\Delta t)^2}=\\kappa$$<BR>\n",
      "Para obtener la n-esima posici\u00f3n, se requieren, entonces, las posiciones en los dos instantes anteriores:<BR>\n",
      "$$\\Psi_{i,j}^{n}=\\frac{\\kappa}{(\\Delta y)^2}(\\Psi_{i,j+1}^{n-1}-2\\Psi_{i,j}^{n-1}+\\Psi_{i,j-1}^{n-1}) +\\frac{\\kappa}{(\\Delta x)^2}(\\Psi_{i+1,j}^{n-1} -2\\Psi_{i,j}^{n-1}-\\Psi_{i-1,j}^{n-1})+\\frac{2\\Delta t}{\\Delta t -\\eta v^2(\\Delta t)^2}\\Psi_{i,j}^{n-1}+\\frac{\\eta v^2\\Delta t+1}{\\eta v^2\\Delta t-1}\\Psi_{i,j}^{n-2}$$<BR>\n"
     ]
    },
    {
     "cell_type": "markdown",
     "metadata": {},
     "source": [
      "Se inicializa la membrana como una perturbaci\u00f3n gaussiana en el centro:<BR>\n",
      "$$\\Psi_{i,j}^0=e^{-\\frac{x^2}{2\\sigma^2}-\\frac{y^2}{2\\sigma^2}}$$<BR>\n",
      "Y la condici\u00f3n en el tiempo $t+\\Delta t$<BR>\n",
      "$$\\Psi_{i,j}^1=\\Big(\\frac{1-\\eta v^2\\Delta t}{2}\\Big)\\Big\\{\\frac{\\kappa}{(\\Delta y)^2}\n",
      "\\Big(\\Psi_{i,j+1}^{0}-2\\Psi_{i,j}^{0}+\\Psi_{i,j-1}^{0}\\Big) +\\frac{\\kappa}{(\\Delta x)^2}\\Big(\\Psi_{i+1,j}^{0} -2\\Psi_{i,j}^{0}-\\Psi_{i-1,j}^{0}\\Big)\n",
      "+\\frac{2\\Delta t\\Psi_{i,j}^0}{\\Delta t-\\eta v^2(\\Delta t)^2}\\Big\\}$$\n"
     ]
    },
    {
     "cell_type": "code",
     "collapsed": false,
     "input": [
      "tmin=0\n",
      "tmax=.33\n",
      "lmin=-0.5  \n",
      "lmax=0.5   \n",
      "Nt=1000\n",
      "Nl=100\n",
      "dt=(tmax-tmin)/Nt\n",
      "dx=(lmax-lmin)/Nl\n",
      "dy=(lmax-lmin)/Nl\n",
      "v=400. \n",
      "n=10**-3\n",
      "k=(v**2)*(dt**3)/(dt-n*v**2*(dt**2))\n",
      "r=v*dt/dx\n",
      "print r\n",
      "print k/(dx**2)"
     ],
     "language": "python",
     "metadata": {},
     "outputs": [
      {
       "output_type": "stream",
       "stream": "stdout",
       "text": [
        "13.2\n",
        "183.952702703\n"
       ]
      }
     ],
     "prompt_number": 10
    },
    {
     "cell_type": "code",
     "collapsed": false,
     "input": [
      "xcoords=linspace(lmin,lmax,Nl)\n",
      "ycoords=linspace(lmin,lmax,Nl)\n",
      "xmesh,ymesh=meshgrid(xcoords,ycoords)\n",
      "tcoords=linspace(tmin,tmax,Nt)\n",
      "membrana=zeros((Nt,Nl,Nl))\n",
      "stdev=0.1\n",
      "membrana[0]=exp(-xmesh**2/(2*stdev**2))*exp(-ymesh**2/(2*stdev**2))"
     ],
     "language": "python",
     "metadata": {},
     "outputs": []
    },
    {
     "cell_type": "markdown",
     "metadata": {},
     "source": [
      "#Montecarlo"
     ]
    },
    {
     "cell_type": "code",
     "collapsed": false,
     "input": [
      "N=70\n",
      "cant=[0]\n",
      "x=linspace(0,N-1,N)\n",
      "print x"
     ],
     "language": "python",
     "metadata": {},
     "outputs": [
      {
       "output_type": "stream",
       "stream": "stdout",
       "text": [
        "[  0.   1.   2.   3.   4.   5.   6.   7.   8.   9.  10.  11.  12.  13.  14.\n",
        "  15.  16.  17.  18.  19.  20.  21.  22.  23.  24.  25.  26.  27.  28.  29.\n",
        "  30.  31.  32.  33.  34.  35.  36.  37.  38.  39.  40.  41.  42.  43.  44.\n",
        "  45.  46.  47.  48.  49.  50.  51.  52.  53.  54.  55.  56.  57.  58.  59.\n",
        "  60.  61.  62.  63.  64.  65.  66.  67.  68.  69.]\n"
       ]
      }
     ],
     "prompt_number": 116
    },
    {
     "cell_type": "code",
     "collapsed": false,
     "input": [
      "cant=[0]\n",
      "for n in range(1,N):\n",
      "    cont=0\n",
      "    \n",
      "    gente=zeros((N+10,2))\n",
      "    gente[:10,0]=1\n",
      "    gente[:10,1]=2*pi*random.random(10)\n",
      "    gente[10:,1]=(2*pi*random.random(N))\n",
      "    ind=argsort(gente[:,1])\n",
      "    orden=gente[ind,0]\n",
      "    \n",
      "    for i in range(1,10+N-1):\n",
      "        if((orden[i]==1)&(orden[i-1]==0)&(orden[i+1]==0)):\n",
      "            cont+=1\n",
      "\n",
      "    cant.append(cont)\n",
      "cant=array(cant)"
     ],
     "language": "python",
     "metadata": {},
     "outputs": [],
     "prompt_number": 117
    },
    {
     "cell_type": "code",
     "collapsed": false,
     "input": [
      "print cant\n",
      "print len(cant)"
     ],
     "language": "python",
     "metadata": {},
     "outputs": [
      {
       "output_type": "stream",
       "stream": "stdout",
       "text": [
        "[ 0  6  8  8  6  6  7  8  7  6  8  3 10  8  8  6  8  9  9  8  5 10 10  8 10\n",
        "  5 10  6  8  8  5  7 10  7  9 10 10  8  9  6 10  8 10  9  7  9  6  6 10  8\n",
        "  8 10  3  8  8  8  7 10  7  6 10  6  8  6 10  8 10  8 10 10]\n",
        "70\n"
       ]
      }
     ],
     "prompt_number": 118
    },
    {
     "cell_type": "code",
     "collapsed": false,
     "input": [
      "plot(x,cant)"
     ],
     "language": "python",
     "metadata": {},
     "outputs": [
      {
       "metadata": {},
       "output_type": "pyout",
       "prompt_number": 119,
       "text": [
        "[<matplotlib.lines.Line2D at 0x7f1e2fcb3390>]"
       ]
      },
      {
       "metadata": {},
       "output_type": "display_data",
       "png": "[encoded data removed]",
       "text": [
        "<matplotlib.figure.Figure at 0x7f1e340d6150>"
       ]
      }
     ],
     "prompt_number": 119
    },
    {
     "cell_type": "code",
     "collapsed": false,
     "input": [],
     "language": "python",
     "metadata": {},
     "outputs": []
    }
   ],
   "metadata": {}
  }
 ]
}