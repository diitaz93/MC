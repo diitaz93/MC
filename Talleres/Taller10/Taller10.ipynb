{
 "metadata": {
  "name": ""
 },
 "nbformat": 3,
 "nbformat_minor": 0,
 "worksheets": [
  {
   "cells": [
    {
     "cell_type": "code",
     "collapsed": false,
     "input": [
      "%pylab inline"
     ],
     "language": "python",
     "metadata": {},
     "outputs": [
      {
       "output_type": "stream",
       "stream": "stdout",
       "text": [
        "Populating the interactive namespace from numpy and matplotlib\n"
       ]
      },
      {
       "output_type": "stream",
       "stream": "stderr",
       "text": [
        "WARNING: pylab import has clobbered these variables: ['matrix', 'beta']\n",
        "`%pylab --no-import-all` prevents importing * from pylab and numpy\n"
       ]
      }
     ],
     "prompt_number": 22
    },
    {
     "cell_type": "code",
     "collapsed": false,
     "input": [
      "l=20\n",
      "matrix=ones((l,l,l))\n",
      "T=10.\n",
      "beta=1./T\n",
      "def total_energy():\n",
      "    global matrix\n",
      "    return -sum(sum(matrix*(roll(matrix,1,axis=1)+\\\n",
      "                         roll(matrix,-1,axis=1)+\\\n",
      "                         roll(matrix,1,axis=0)+\\\n",
      "                         roll(matrix,-1,axis=0)+\\\n",
      "                         roll(matrix,1,axis=2)+\\\n",
      "                         roll(matrix,-1,axis=2))))\n",
      "def block_energy(i,j,k):\n",
      "    global matrix\n",
      "    global l\n",
      "    return -(matrix[i,j,k]*(matrix[(i-1)%l,j,k]+\\\n",
      "                                  matrix[(i+1)%l,j,k]+\\\n",
      "                                  matrix[i,(j+1)%l,k]+\\\n",
      "                                  matrix[i,(j-1)%l,k]+\\\n",
      "                                  matrix[i,j,(k+1)%l]+\\\n",
      "                                  matrix[i,j,(k-1)%l]))\n",
      "def flipone():\n",
      "    global matrix\n",
      "    global beta\n",
      "    global l\n",
      "    nx, ny, nz= random.randint(0,l),random.randint(0,l),random.randint(0,l)\n",
      "    en_i=block_energy(nx,ny,nz)\n",
      "    en_f=-en_i\n",
      "    if en_f<en_i:\n",
      "        matrix[nx,ny,nz]*=-1\n",
      "    elif random.random()<min(1,exp(-beta*(en_f-en_i))):\n",
      "        matrix[nx,ny,nz]*=-1\n",
      "\n",
      "def magnetization():\n",
      "    global matrix\n",
      "    global l\n",
      "    return sum(sum(matrix))/l**3"
     ],
     "language": "python",
     "metadata": {},
     "outputs": [],
     "prompt_number": 23
    },
    {
     "cell_type": "code",
     "collapsed": false,
     "input": [
      "magnetizaciones=[]\n",
      "numIter=10**6\n",
      "for temp in linspace(1,8,40):\n",
      "    print temp,\n",
      "    T=temp\n",
      "    beta=1./T\n",
      "    mag=[]\n",
      "    for i in range(numIter):\n",
      "        flipone()\n",
      "        if i>numIter-100:\n",
      "            mag.append(magnetization())\n",
      "    magnetizaciones.append([T,mean(mag)])\n",
      "magnetizaciones=array(magnetizaciones)"
     ],
     "language": "python",
     "metadata": {},
     "outputs": [
      {
       "output_type": "stream",
       "stream": "stdout",
       "text": [
        "1.0 "
       ]
      },
      {
       "output_type": "stream",
       "stream": "stdout",
       "text": [
        "1.17948717949 "
       ]
      },
      {
       "output_type": "stream",
       "stream": "stdout",
       "text": [
        "1.35897435897 "
       ]
      },
      {
       "output_type": "stream",
       "stream": "stdout",
       "text": [
        "1.53846153846 "
       ]
      },
      {
       "output_type": "stream",
       "stream": "stdout",
       "text": [
        "1.71794871795 "
       ]
      },
      {
       "output_type": "stream",
       "stream": "stdout",
       "text": [
        "1.89743589744 "
       ]
      },
      {
       "output_type": "stream",
       "stream": "stdout",
       "text": [
        "2.07692307692 "
       ]
      },
      {
       "output_type": "stream",
       "stream": "stdout",
       "text": [
        "2.25641025641 "
       ]
      },
      {
       "output_type": "stream",
       "stream": "stdout",
       "text": [
        "2.4358974359 "
       ]
      },
      {
       "output_type": "stream",
       "stream": "stdout",
       "text": [
        "2.61538461538 "
       ]
      },
      {
       "output_type": "stream",
       "stream": "stdout",
       "text": [
        "2.79487179487 "
       ]
      },
      {
       "output_type": "stream",
       "stream": "stdout",
       "text": [
        "2.97435897436 "
       ]
      },
      {
       "output_type": "stream",
       "stream": "stdout",
       "text": [
        "3.15384615385 "
       ]
      },
      {
       "output_type": "stream",
       "stream": "stdout",
       "text": [
        "3.33333333333 "
       ]
      },
      {
       "output_type": "stream",
       "stream": "stdout",
       "text": [
        "3.51282051282 "
       ]
      },
      {
       "output_type": "stream",
       "stream": "stdout",
       "text": [
        "3.69230769231 "
       ]
      },
      {
       "output_type": "stream",
       "stream": "stdout",
       "text": [
        "3.87179487179 "
       ]
      },
      {
       "output_type": "stream",
       "stream": "stdout",
       "text": [
        "4.05128205128 "
       ]
      },
      {
       "output_type": "stream",
       "stream": "stdout",
       "text": [
        "4.23076923077 "
       ]
      },
      {
       "output_type": "stream",
       "stream": "stdout",
       "text": [
        "4.41025641026 "
       ]
      },
      {
       "output_type": "stream",
       "stream": "stdout",
       "text": [
        "4.58974358974 "
       ]
      },
      {
       "output_type": "stream",
       "stream": "stdout",
       "text": [
        "4.76923076923 "
       ]
      },
      {
       "output_type": "stream",
       "stream": "stdout",
       "text": [
        "4.94871794872 "
       ]
      },
      {
       "output_type": "stream",
       "stream": "stdout",
       "text": [
        "5.12820512821 "
       ]
      },
      {
       "output_type": "stream",
       "stream": "stdout",
       "text": [
        "5.30769230769 "
       ]
      },
      {
       "output_type": "stream",
       "stream": "stdout",
       "text": [
        "5.48717948718 "
       ]
      },
      {
       "output_type": "stream",
       "stream": "stdout",
       "text": [
        "5.66666666667 "
       ]
      },
      {
       "output_type": "stream",
       "stream": "stdout",
       "text": [
        "5.84615384615 "
       ]
      },
      {
       "output_type": "stream",
       "stream": "stdout",
       "text": [
        "6.02564102564 "
       ]
      },
      {
       "output_type": "stream",
       "stream": "stdout",
       "text": [
        "6.20512820513 "
       ]
      },
      {
       "output_type": "stream",
       "stream": "stdout",
       "text": [
        "6.38461538462 "
       ]
      },
      {
       "output_type": "stream",
       "stream": "stdout",
       "text": [
        "6.5641025641 "
       ]
      },
      {
       "output_type": "stream",
       "stream": "stdout",
       "text": [
        "6.74358974359 "
       ]
      },
      {
       "output_type": "stream",
       "stream": "stdout",
       "text": [
        "6.92307692308 "
       ]
      },
      {
       "output_type": "stream",
       "stream": "stdout",
       "text": [
        "7.10256410256 "
       ]
      },
      {
       "output_type": "stream",
       "stream": "stdout",
       "text": [
        "7.28205128205 "
       ]
      },
      {
       "output_type": "stream",
       "stream": "stdout",
       "text": [
        "7.46153846154 "
       ]
      },
      {
       "output_type": "stream",
       "stream": "stdout",
       "text": [
        "7.64102564103 "
       ]
      },
      {
       "output_type": "stream",
       "stream": "stdout",
       "text": [
        "7.82051282051 "
       ]
      },
      {
       "output_type": "stream",
       "stream": "stdout",
       "text": [
        "8.0\n"
       ]
      }
     ],
     "prompt_number": 24
    },
    {
     "cell_type": "code",
     "collapsed": false,
     "input": [
      "figure(figsize=(10,6))\n",
      "plot(magnetizaciones[:,0],magnetizaciones[:,1],\"o--\")\n",
      "xlabel(\"T/J\")\n",
      "ylabel(\"M/N\")\n",
      "title(u\"Ising 3D - Magnetizaci\u00f3n\\n Red C\u00fabica de 20^3 - Condiciones de frontera peri\u00f3dicas\\n 10^6 iteraciones\\\n",
      "en cada temperatura - sucesivas\") \n",
      "ylim(-0.1,1)\n",
      "xlim(1,8)\n",
      "axvline(4.51, color='red')\n",
      "axhline(0.0,color='k')\n",
      "show()"
     ],
     "language": "python",
     "metadata": {},
     "outputs": [
      {
       "metadata": {},
       "output_type": "display_data",
       "png": "[encoded data removed]",
       "text": [
        "<matplotlib.figure.Figure at 0x7f74817a7090>"
       ]
      }
     ],
     "prompt_number": 28
    },
    {
     "cell_type": "code",
     "collapsed": false,
     "input": [],
     "language": "python",
     "metadata": {},
     "outputs": []
    }
   ],
   "metadata": {}
  }
 ]
}