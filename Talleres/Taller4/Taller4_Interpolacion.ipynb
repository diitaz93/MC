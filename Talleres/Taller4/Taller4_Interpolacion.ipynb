{
 "metadata": {
  "name": ""
 },
 "nbformat": 3,
 "nbformat_minor": 0,
 "worksheets": [
  {
   "cells": [
    {
     "cell_type": "code",
     "collapsed": false,
     "input": [
      "%pylab inline\n",
      "from scipy import interpolate"
     ],
     "language": "python",
     "metadata": {},
     "outputs": [
      {
       "output_type": "stream",
       "stream": "stdout",
       "text": [
        "Populating the interactive namespace from numpy and matplotlib\n"
       ]
      }
     ],
     "prompt_number": 13
    },
    {
     "cell_type": "markdown",
     "metadata": {},
     "source": [
      "#Modificacion de archivo\n",
      "Primero se descargo el enunciado del taller como archivo markdown y se modifico usando:\n",
      "\n",
      "* `grep \\| Taller4.md | grep [0-9] >Taller4.txt`.\n",
      "* `sed -E 's/\\|/ /g' Taller4.txt| sed 's/^ //g'|sed 's/ /,/g'| sed 's/,$//g'> Taller4.csv`.\n",
      "\n",
      "De esta manera quedan los valores separados por comas guardados en un archivo .csv\n"
     ]
    },
    {
     "cell_type": "code",
     "collapsed": false,
     "input": [
      "#Se inicializan los datos\n",
      "data=genfromtxt(\"Taller4.csv\", delimiter=\",\")\n",
      "datax=data[:,0]\n",
      "datay=data[:,1]"
     ],
     "language": "python",
     "metadata": {},
     "outputs": [],
     "prompt_number": 14
    },
    {
     "cell_type": "code",
     "collapsed": false,
     "input": [
      "#Crea un intervalo separado uniformemente, con los mismos extremos que el intervalo original\n",
      "newx=linspace(datax[0],datax[-1],24)\n",
      "print newx\n",
      "print datax\n"
     ],
     "language": "python",
     "metadata": {},
     "outputs": [
      {
       "output_type": "stream",
       "stream": "stdout",
       "text": [
        "[ 0.13849067  0.32622665  0.51396263  0.7016986   0.88943458  1.07717056\n",
        "  1.26490654  1.45264252  1.64037849  1.82811447  2.01585045  2.20358643\n",
        "  2.39132241  2.57905838  2.76679436  2.95453034  3.14226632  3.3300023\n",
        "  3.51773827  3.70547425  3.89321023  4.08094621  4.26868219  4.45641816]\n",
        "[ 0.13849067  0.1538244   0.2295782   0.26643518  0.27692941  0.33415906\n",
        "  0.38361219  0.44643489  0.54198992  1.33433324  1.44538291  1.51883847\n",
        "  1.60573896  1.74396178  1.87038246  2.30863773  2.38628526  2.46587111\n",
        "  2.65137821  2.75152244  2.82756612  4.19566322  4.31051855  4.45641816]\n"
       ]
      }
     ],
     "prompt_number": 15
    },
    {
     "cell_type": "code",
     "collapsed": false,
     "input": [
      "#Se usa la funci\u00f3n interpolate tipo cubica\n",
      "newy=interpolate.interp1d(datax,datay,kind='cubic')"
     ],
     "language": "python",
     "metadata": {},
     "outputs": [],
     "prompt_number": 29
    },
    {
     "cell_type": "code",
     "collapsed": false,
     "input": [
      "#Se grafican los datos originales en azul y los datos despues de la interpolaci\u00f3n en rojo unidos por lineas verdes\n",
      "plot(datax,datay,'bo')\n",
      "plot(newx,newy(newx),'ro')\n",
      "plot(newx,newy(newx),'g')\n"
     ],
     "language": "python",
     "metadata": {},
     "outputs": [
      {
       "metadata": {},
       "output_type": "pyout",
       "prompt_number": 59,
       "text": [
        "[<matplotlib.lines.Line2D at 0x7fbccaca5690>]"
       ]
      },
      {
       "metadata": {},
       "output_type": "display_data",
       "png": "[encoded data removed]",
       "text": [
        "<matplotlib.figure.Figure at 0x7fbcca25e310>"
       ]
      }
     ],
     "prompt_number": 59
    },
    {
     "cell_type": "code",
     "collapsed": false,
     "input": [
      "#Datos despues de la interpolaci\u00f3n\n",
      "print \"X\\t\\tY\\n\"\n",
      "for i in range(len(newx)-1):\n",
      "    print newx[i],\"\\t\",newy(newx)[i],\"\\n\"\n",
      "               "
     ],
     "language": "python",
     "metadata": {},
     "outputs": [
      {
       "output_type": "stream",
       "stream": "stdout",
       "text": [
        "X\t\tY\n",
        "\n",
        "0.138490669327 \t2.30060161547 \n",
        "\n",
        "0.326226647315 \t2.13557983804 \n",
        "\n",
        "0.513962625304 \t1.39719881749 \n",
        "\n",
        "0.701698603292 \t0.417206585909 \n",
        "\n",
        "0.889434581281 \t-0.508199547139 \n",
        "\n",
        "1.07717055927 \t-1.19852808033 \n",
        "\n",
        "1.26490653726 \t-1.4736082803 \n",
        "\n",
        "1.45264251525 \t-1.18833620006 \n",
        "\n",
        "1.64037849323 \t-0.55652504403 \n",
        "\n",
        "1.82811447122 \t0.171218763615 \n",
        "\n",
        "2.01585044921 \t0.779865462088 \n",
        "\n",
        "2.2035864272 \t1.18452422396 \n",
        "\n",
        "2.39132240519 \t1.37314208846 \n",
        "\n",
        "2.57905838318 \t1.41448149449 \n",
        "\n",
        "2.76679436116 \t1.41176113173 \n",
        "\n",
        "2.95453033915 \t1.38826705753 \n",
        "\n",
        "3.14226631714 \t1.28426676118 \n",
        "\n",
        "3.33000229513 \t1.11616041679 \n",
        "\n",
        "3.51773827312 \t0.902468822016 \n",
        "\n",
        "3.70547425111 \t0.661712774524 \n",
        "\n",
        "3.89321022909 \t0.412413071971 \n",
        "\n",
        "4.08094620708 \t0.173090512018 \n",
        "\n",
        "4.26868218507 \t-0.0349501128798 \n",
        "\n"
       ]
      }
     ],
     "prompt_number": 58
    },
    {
     "cell_type": "code",
     "collapsed": false,
     "input": [],
     "language": "python",
     "metadata": {},
     "outputs": []
    }
   ],
   "metadata": {}
  }
 ]
}