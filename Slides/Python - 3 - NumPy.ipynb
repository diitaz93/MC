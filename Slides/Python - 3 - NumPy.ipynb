{
 "metadata": {
  "name": "",
  "signature": "sha256:9339d455a98012c368bb7120a1426831f1b73fa8f796f17cba568a4eb41360fc"
 },
 "nbformat": 3,
 "nbformat_minor": 0,
 "worksheets": [
  {
   "cells": [
    {
     "cell_type": "heading",
     "level": 1,
     "metadata": {},
     "source": [
      "Python - Numpy"
     ]
    },
    {
     "cell_type": "code",
     "collapsed": false,
     "input": [
      "# Importar numpy\n",
      "from numpy import *"
     ],
     "language": "python",
     "metadata": {},
     "outputs": [],
     "prompt_number": 1
    },
    {
     "cell_type": "code",
     "collapsed": false,
     "input": [
      "from IPython.display import HTML\n",
      "HTML('<iframe src=http://www.springer.com/mathematics/computational+science+%26+engineering/book/978-3-642-54958-8 width=600 height=350></iframe>')"
     ],
     "language": "python",
     "metadata": {},
     "outputs": [
      {
       "html": [
        "<iframe src=http://www.springer.com/mathematics/computational+science+%26+engineering/book/978-3-642-54958-8 width=600 height=350></iframe>"
       ],
       "metadata": {},
       "output_type": "pyout",
       "prompt_number": 2,
       "text": [
        "<IPython.core.display.HTML at 0x1047f62d0>"
       ]
      }
     ],
     "prompt_number": 2
    },
    {
     "cell_type": "code",
     "collapsed": false,
     "input": [
      "HTML('<iframe src=http://www.numpy.org/ width=600 height=350></iframe>')  "
     ],
     "language": "python",
     "metadata": {},
     "outputs": [
      {
       "html": [
        "<iframe src=http://www.numpy.org/ width=600 height=350></iframe>"
       ],
       "metadata": {},
       "output_type": "pyout",
       "prompt_number": 3,
       "text": [
        "<IPython.core.display.HTML at 0x1047effd0>"
       ]
      }
     ],
     "prompt_number": 3
    },
    {
     "cell_type": "code",
     "collapsed": false,
     "input": [
      "help(array)"
     ],
     "language": "python",
     "metadata": {},
     "outputs": []
    },
    {
     "cell_type": "code",
     "collapsed": false,
     "input": [
      "numpyfuns=dir(numpy)\n",
      "print \"\u2735\"*33+\"NUMPY\"+\"\u2735\"*33+\"\\n\"\n",
      "for i in range(len(numpyfuns)):\n",
      "    thefun=numpyfuns[i]\n",
      "    print thefun,\n",
      "    if i%4==3:\n",
      "        print \"\"\n",
      "    else:\n",
      "        print \" \"*(22-len(thefun)),"
     ],
     "language": "python",
     "metadata": {},
     "outputs": [
      {
       "ename": "NameError",
       "evalue": "name 'numpy' is not defined",
       "output_type": "pyerr",
       "traceback": [
        "\u001b[0;31m---------------------------------------------------------------------------\u001b[0m\n\u001b[0;31mNameError\u001b[0m                                 Traceback (most recent call last)",
        "\u001b[0;32m<ipython-input-9-16a45f5c3a97>\u001b[0m in \u001b[0;36m<module>\u001b[0;34m()\u001b[0m\n\u001b[0;32m----> 1\u001b[0;31m \u001b[0mnumpyfuns\u001b[0m\u001b[0;34m=\u001b[0m\u001b[0mdir\u001b[0m\u001b[0;34m(\u001b[0m\u001b[0mnumpy\u001b[0m\u001b[0;34m)\u001b[0m\u001b[0;34m\u001b[0m\u001b[0m\n\u001b[0m\u001b[1;32m      2\u001b[0m \u001b[0;32mprint\u001b[0m \u001b[0;34m\"\u2735\"\u001b[0m\u001b[0;34m*\u001b[0m\u001b[0;36m33\u001b[0m\u001b[0;34m+\u001b[0m\u001b[0;34m\"NUMPY\"\u001b[0m\u001b[0;34m+\u001b[0m\u001b[0;34m\"\u2735\"\u001b[0m\u001b[0;34m*\u001b[0m\u001b[0;36m33\u001b[0m\u001b[0;34m+\u001b[0m\u001b[0;34m\"\\n\"\u001b[0m\u001b[0;34m\u001b[0m\u001b[0m\n\u001b[1;32m      3\u001b[0m \u001b[0;32mfor\u001b[0m \u001b[0mi\u001b[0m \u001b[0;32min\u001b[0m \u001b[0mrange\u001b[0m\u001b[0;34m(\u001b[0m\u001b[0mlen\u001b[0m\u001b[0;34m(\u001b[0m\u001b[0mnumpyfuns\u001b[0m\u001b[0;34m)\u001b[0m\u001b[0;34m)\u001b[0m\u001b[0;34m:\u001b[0m\u001b[0;34m\u001b[0m\u001b[0m\n\u001b[1;32m      4\u001b[0m     \u001b[0mthefun\u001b[0m\u001b[0;34m=\u001b[0m\u001b[0mnumpyfuns\u001b[0m\u001b[0;34m[\u001b[0m\u001b[0mi\u001b[0m\u001b[0;34m]\u001b[0m\u001b[0;34m\u001b[0m\u001b[0m\n\u001b[1;32m      5\u001b[0m     \u001b[0;32mprint\u001b[0m \u001b[0mthefun\u001b[0m\u001b[0;34m,\u001b[0m\u001b[0;34m\u001b[0m\u001b[0m\n",
        "\u001b[0;31mNameError\u001b[0m: name 'numpy' is not defined"
       ]
      }
     ],
     "prompt_number": 9
    },
    {
     "cell_type": "code",
     "collapsed": false,
     "input": [
      "help(matrix)"
     ],
     "language": "python",
     "metadata": {},
     "outputs": []
    },
    {
     "cell_type": "heading",
     "level": 2,
     "metadata": {},
     "source": [
      "Arrays"
     ]
    },
    {
     "cell_type": "code",
     "collapsed": false,
     "input": [
      "lista=[[0 for i in range(10)] for j in range(10)]\n",
      "print lista"
     ],
     "language": "python",
     "metadata": {},
     "outputs": [
      {
       "output_type": "stream",
       "stream": "stdout",
       "text": [
        "[[0, 0, 0, 0, 0, 0, 0, 0, 0, 0], [0, 0, 0, 0, 0, 0, 0, 0, 0, 0], [0, 0, 0, 0, 0, 0, 0, 0, 0, 0], [0, 0, 0, 0, 0, 0, 0, 0, 0, 0], [0, 0, 0, 0, 0, 0, 0, 0, 0, 0], [0, 0, 0, 0, 0, 0, 0, 0, 0, 0], [0, 0, 0, 0, 0, 0, 0, 0, 0, 0], [0, 0, 0, 0, 0, 0, 0, 0, 0, 0], [0, 0, 0, 0, 0, 0, 0, 0, 0, 0], [0, 0, 0, 0, 0, 0, 0, 0, 0, 0]]\n"
       ]
      }
     ],
     "prompt_number": 12
    },
    {
     "cell_type": "code",
     "collapsed": false,
     "input": [
      "lista[0][0]"
     ],
     "language": "python",
     "metadata": {},
     "outputs": [
      {
       "metadata": {},
       "output_type": "pyout",
       "prompt_number": 13,
       "text": [
        "0"
       ]
      }
     ],
     "prompt_number": 13
    },
    {
     "cell_type": "code",
     "collapsed": false,
     "input": [
      "print \"Para convertir una lista en un array usar la funci\u00f3n array\"\n",
      "lista=[1,2,3,4,5]\n",
      "arr=array(lista)\n",
      "print \"Una lista de listas se convierte autom\u00e1ticamente en un array de varios \u00edndices\"\n",
      "lista=[[0 for i in range(10)] for j in range(10)]\n",
      "arr=array(lista)\n",
      "print arr\n",
      "print \"Para referenciar un elemento de un array se le entrega una tupla de \u00edndices.\"\n",
      "print arr[1,1]"
     ],
     "language": "python",
     "metadata": {},
     "outputs": [
      {
       "output_type": "stream",
       "stream": "stdout",
       "text": [
        "Para convertir una lista en un array usar la funci\u00f3n array\n",
        "Una lista de listas se convierte autom\u00e1ticamente en un array de varios \u00edndices\n",
        "[[0 0 0 0 0 0 0 0 0 0]\n",
        " [0 0 0 0 0 0 0 0 0 0]\n",
        " [0 0 0 0 0 0 0 0 0 0]\n",
        " [0 0 0 0 0 0 0 0 0 0]\n",
        " [0 0 0 0 0 0 0 0 0 0]\n",
        " [0 0 0 0 0 0 0 0 0 0]\n",
        " [0 0 0 0 0 0 0 0 0 0]\n",
        " [0 0 0 0 0 0 0 0 0 0]\n",
        " [0 0 0 0 0 0 0 0 0 0]\n",
        " [0 0 0 0 0 0 0 0 0 0]]\n",
        "Para referenciar un elemento de un array se le entrega una tupla de \u00edndices.\n",
        "0\n"
       ]
      }
     ],
     "prompt_number": 14
    },
    {
     "cell_type": "code",
     "collapsed": false,
     "input": [
      "print \"Para inicializar un arreglo puede usarse la funci\u00f3n zeros. Los n\u00fameros son float por defecto pero puede especificarse que sean enteros.\"\n",
      "arr=zeros(10)\n",
      "print arr\n",
      "arrint=zeros(10,int)\n",
      "print arrint"
     ],
     "language": "python",
     "metadata": {},
     "outputs": [
      {
       "output_type": "stream",
       "stream": "stdout",
       "text": [
        "Para inicializar un arreglo puede usarse la funci\u00f3n zeros. Los n\u00fameros son float por defecto pero puede especificarse que sean enteros.\n",
        "[ 0.  0.  0.  0.  0.  0.  0.  0.  0.  0.]\n",
        "[0 0 0 0 0 0 0 0 0 0]\n"
       ]
      }
     ],
     "prompt_number": 42
    },
    {
     "cell_type": "code",
     "collapsed": false,
     "input": [
      "print \"Esta funci\u00f3n tambi\u00e9n puede utilizarse para inicializar arreglos de dos o m\u00e1s \u00edndices\"\n",
      "arr2=zeros((10,10))\n",
      "print arr2\n",
      "arr3=zeros((2,5,5))\n",
      "print arr3"
     ],
     "language": "python",
     "metadata": {},
     "outputs": [
      {
       "output_type": "stream",
       "stream": "stdout",
       "text": [
        "Esta funci\u00f3n tambi\u00e9n puede utilizarse para inicializar arreglos de dos o m\u00e1s \u00edndices\n",
        "[[ 0.  0.  0.  0.  0.  0.  0.  0.  0.  0.]\n",
        " [ 0.  0.  0.  0.  0.  0.  0.  0.  0.  0.]\n",
        " [ 0.  0.  0.  0.  0.  0.  0.  0.  0.  0.]\n",
        " [ 0.  0.  0.  0.  0.  0.  0.  0.  0.  0.]\n",
        " [ 0.  0.  0.  0.  0.  0.  0.  0.  0.  0.]\n",
        " [ 0.  0.  0.  0.  0.  0.  0.  0.  0.  0.]\n",
        " [ 0.  0.  0.  0.  0.  0.  0.  0.  0.  0.]\n",
        " [ 0.  0.  0.  0.  0.  0.  0.  0.  0.  0.]\n",
        " [ 0.  0.  0.  0.  0.  0.  0.  0.  0.  0.]\n",
        " [ 0.  0.  0.  0.  0.  0.  0.  0.  0.  0.]]\n",
        "[[[ 0.  0.  0.  0.  0.]\n",
        "  [ 0.  0.  0.  0.  0.]\n",
        "  [ 0.  0.  0.  0.  0.]\n",
        "  [ 0.  0.  0.  0.  0.]\n",
        "  [ 0.  0.  0.  0.  0.]]\n",
        "\n",
        " [[ 0.  0.  0.  0.  0.]\n",
        "  [ 0.  0.  0.  0.  0.]\n",
        "  [ 0.  0.  0.  0.  0.]\n",
        "  [ 0.  0.  0.  0.  0.]\n",
        "  [ 0.  0.  0.  0.  0.]]]\n"
       ]
      }
     ],
     "prompt_number": 15
    },
    {
     "cell_type": "code",
     "collapsed": false,
     "input": [
      "print \"La funci\u00f3n linspace puede usarse para construir arrays con n\u00fameros igualmente espaciados en un intervalo\"\n",
      "arr=linspace(0,10,10)\n",
      "print arr"
     ],
     "language": "python",
     "metadata": {},
     "outputs": [
      {
       "output_type": "stream",
       "stream": "stdout",
       "text": [
        "La funci\u00f3n linspace puede usarse para construir arrays con n\u00fameros igualmente espaciados en un intervalo\n",
        "[  0.           1.11111111   2.22222222   3.33333333   4.44444444\n",
        "   5.55555556   6.66666667   7.77777778   8.88888889  10.        ]\n"
       ]
      }
     ],
     "prompt_number": 16
    },
    {
     "cell_type": "code",
     "collapsed": false,
     "input": [
      "print \"Los arrays son tambi\u00e9n objetos iterables.\"\n",
      "arr=linspace(0,10,10)\n",
      "for i in arr:\n",
      "    print i + 1,"
     ],
     "language": "python",
     "metadata": {},
     "outputs": [
      {
       "output_type": "stream",
       "stream": "stdout",
       "text": [
        "Los arrays son tambi\u00e9n objetos iterables.\n",
        "1.0 2.11111111111 3.22222222222 4.33333333333 5.44444444444 6.55555555556 7.66666666667 8.77777777778 9.88888888889 11.0\n"
       ]
      }
     ],
     "prompt_number": 17
    },
    {
     "cell_type": "heading",
     "level": 2,
     "metadata": {},
     "source": [
      "Vectorizaci\u00f3n"
     ]
    },
    {
     "cell_type": "markdown",
     "metadata": {},
     "source": [
      "\"Vectorization is very important for speeding up Python programs where we do heavy computations with arrays. Moreover, vectorization gives more compact code that is easier to read.\" Langtangen"
     ]
    },
    {
     "cell_type": "code",
     "collapsed": false,
     "input": [
      "datos=random.rand(10000)\n",
      "def function(x):\n",
      "    return log(x)\n",
      "%timeit resultados=[function(x) for x in datos]\n",
      "%timeit resultados=function(datos)"
     ],
     "language": "python",
     "metadata": {},
     "outputs": [
      {
       "output_type": "stream",
       "stream": "stdout",
       "text": [
        "10 loops, best of 3: 14.6 ms per loop\n",
        "10000 loops, best of 3: 166 \u00b5s per loop"
       ]
      },
      {
       "output_type": "stream",
       "stream": "stdout",
       "text": [
        "\n"
       ]
      }
     ],
     "prompt_number": 10
    },
    {
     "cell_type": "code",
     "collapsed": false,
     "input": [
      "HTML('<iframe src=https://modelingguru.nasa.gov/docs/DOC-1762 width=600 height=350></iframe>')"
     ],
     "language": "python",
     "metadata": {},
     "outputs": [
      {
       "html": [
        "<iframe src=https://modelingguru.nasa.gov/docs/DOC-1762 width=600 height=350></iframe>"
       ],
       "metadata": {},
       "output_type": "pyout",
       "prompt_number": 18,
       "text": [
        "<IPython.core.display.HTML at 0x104444310>"
       ]
      }
     ],
     "prompt_number": 18
    },
    {
     "cell_type": "code",
     "collapsed": false,
     "input": [
      "def duplicador(x):\n",
      "    return 2*x"
     ],
     "language": "python",
     "metadata": {},
     "outputs": [],
     "prompt_number": 19
    },
    {
     "cell_type": "code",
     "collapsed": false,
     "input": [
      "lista=range(5)\n",
      "print \"duplicador(lista) duplica la lista\"\n",
      "print duplicador(lista)\n",
      "arr=array(lista)\n",
      "print \"duplicador(arr) entrega otro array con la funci\u00f3n aplicada a cada elemento.\"\n",
      "print duplicador(arr)+arr+arr/2.\n"
     ],
     "language": "python",
     "metadata": {},
     "outputs": [
      {
       "output_type": "stream",
       "stream": "stdout",
       "text": [
        "duplicador(lista) duplica la lista\n",
        "[0, 1, 2, 3, 4, 0, 1, 2, 3, 4]\n",
        "duplicador(arr) entrega otro array con la funci\u00f3n aplicada a cada elemento.\n",
        "[  0.    3.5   7.   10.5  14. ]\n"
       ]
      }
     ],
     "prompt_number": 21
    },
    {
     "cell_type": "code",
     "collapsed": false,
     "input": [
      "# No todas las funciones se vectorizan autom\u00e1ticamente\n",
      "def escalon(x):\n",
      "    if x<0:\n",
      "        return 0.\n",
      "    else:\n",
      "        return 1.\n",
      "escalon(linspace(-1,1,3))"
     ],
     "language": "python",
     "metadata": {},
     "outputs": [
      {
       "ename": "ValueError",
       "evalue": "The truth value of an array with more than one element is ambiguous. Use a.any() or a.all()",
       "output_type": "pyerr",
       "traceback": [
        "\u001b[0;31m---------------------------------------------------------------------------\u001b[0m\n\u001b[0;31mValueError\u001b[0m                                Traceback (most recent call last)",
        "\u001b[0;32m<ipython-input-22-f6989d346156>\u001b[0m in \u001b[0;36m<module>\u001b[0;34m()\u001b[0m\n\u001b[1;32m      5\u001b[0m     \u001b[0;32melse\u001b[0m\u001b[0;34m:\u001b[0m\u001b[0;34m\u001b[0m\u001b[0m\n\u001b[1;32m      6\u001b[0m         \u001b[0;32mreturn\u001b[0m \u001b[0;36m1.\u001b[0m\u001b[0;34m\u001b[0m\u001b[0m\n\u001b[0;32m----> 7\u001b[0;31m \u001b[0mescalon\u001b[0m\u001b[0;34m(\u001b[0m\u001b[0mlinspace\u001b[0m\u001b[0;34m(\u001b[0m\u001b[0;34m-\u001b[0m\u001b[0;36m1\u001b[0m\u001b[0;34m,\u001b[0m\u001b[0;36m1\u001b[0m\u001b[0;34m,\u001b[0m\u001b[0;36m3\u001b[0m\u001b[0;34m)\u001b[0m\u001b[0;34m)\u001b[0m\u001b[0;34m\u001b[0m\u001b[0m\n\u001b[0m",
        "\u001b[0;32m<ipython-input-22-f6989d346156>\u001b[0m in \u001b[0;36mescalon\u001b[0;34m(x)\u001b[0m\n\u001b[1;32m      1\u001b[0m \u001b[0;31m# No todas las funciones se vectorizan autom\u00e1ticamente\u001b[0m\u001b[0;34m\u001b[0m\u001b[0;34m\u001b[0m\u001b[0m\n\u001b[1;32m      2\u001b[0m \u001b[0;32mdef\u001b[0m \u001b[0mescalon\u001b[0m\u001b[0;34m(\u001b[0m\u001b[0mx\u001b[0m\u001b[0;34m)\u001b[0m\u001b[0;34m:\u001b[0m\u001b[0;34m\u001b[0m\u001b[0m\n\u001b[0;32m----> 3\u001b[0;31m     \u001b[0;32mif\u001b[0m \u001b[0mx\u001b[0m\u001b[0;34m<\u001b[0m\u001b[0;36m0\u001b[0m\u001b[0;34m:\u001b[0m\u001b[0;34m\u001b[0m\u001b[0m\n\u001b[0m\u001b[1;32m      4\u001b[0m         \u001b[0;32mreturn\u001b[0m \u001b[0;36m0.\u001b[0m\u001b[0;34m\u001b[0m\u001b[0m\n\u001b[1;32m      5\u001b[0m     \u001b[0;32melse\u001b[0m\u001b[0;34m:\u001b[0m\u001b[0;34m\u001b[0m\u001b[0m\n",
        "\u001b[0;31mValueError\u001b[0m: The truth value of an array with more than one element is ambiguous. Use a.any() or a.all()"
       ]
      }
     ],
     "prompt_number": 22
    },
    {
     "cell_type": "code",
     "collapsed": false,
     "input": [
      "# Puede usarse la funci\u00f3n vectorize, que no es muy eficiente, para vectorizar la funci\u00f3n\n",
      "escalonvec = vectorize(escalon)\n",
      "escalonvec(linspace(-1,1,10))"
     ],
     "language": "python",
     "metadata": {},
     "outputs": [
      {
       "metadata": {},
       "output_type": "pyout",
       "prompt_number": 69,
       "text": [
        "array([ 0.,  0.,  0.,  0.,  0.,  1.,  1.,  1.,  1.,  1.])"
       ]
      }
     ],
     "prompt_number": 69
    },
    {
     "cell_type": "code",
     "collapsed": false,
     "input": [
      "# O volver a escribir la funci\u00f3n usando las funci\u00f3nes de numpy\n",
      "def escalon2(x):\n",
      "    return where(x<0,0,1)\n",
      "escalon2(linspace(-1,1,10))"
     ],
     "language": "python",
     "metadata": {},
     "outputs": [
      {
       "metadata": {},
       "output_type": "pyout",
       "prompt_number": 23,
       "text": [
        "array([0, 0, 0, 0, 0, 1, 1, 1, 1, 1])"
       ]
      }
     ],
     "prompt_number": 23
    },
    {
     "cell_type": "heading",
     "level": 2,
     "metadata": {},
     "source": [
      "Pip"
     ]
    },
    {
     "cell_type": "code",
     "collapsed": false,
     "input": [
      "!pip install pyfiglet"
     ],
     "language": "python",
     "metadata": {},
     "outputs": []
    },
    {
     "cell_type": "code",
     "collapsed": false,
     "input": [
      "import pyfiglet"
     ],
     "language": "python",
     "metadata": {},
     "outputs": [],
     "prompt_number": 24
    },
    {
     "cell_type": "code",
     "collapsed": false,
     "input": [
      "pyfiglet.print_figlet(\"Hola\")"
     ],
     "language": "python",
     "metadata": {},
     "outputs": [
      {
       "output_type": "stream",
       "stream": "stdout",
       "text": [
        " _   _       _       \n",
        "| | | | ___ | | __ _ \n",
        "| |_| |/ _ \\| |/ _` |\n",
        "|  _  | (_) | | (_| |\n",
        "|_| |_|\\___/|_|\\__,_|\n",
        "                     \n",
        "\n"
       ]
      }
     ],
     "prompt_number": 27
    }
   ],
   "metadata": {}
  }
 ]
}