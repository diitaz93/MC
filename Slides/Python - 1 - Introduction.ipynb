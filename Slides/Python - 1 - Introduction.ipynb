{
 "metadata": {
  "name": "",
  "signature": "sha256:12a991b97eba2109a967632ecb533b704e891cd23d72c11a9489f7a242d7696a"
 },
 "nbformat": 3,
 "nbformat_minor": 0,
 "worksheets": [
  {
   "cells": [
    {
     "cell_type": "markdown",
     "metadata": {},
     "source": [
      "#Python - Introducci\u00f3n\n",
      "##Universidad de los Andes\n",
      "###Herramientas Computacionales"
     ]
    },
    {
     "cell_type": "code",
     "collapsed": false,
     "input": [
      "import this"
     ],
     "language": "python",
     "metadata": {},
     "outputs": [
      {
       "output_type": "stream",
       "stream": "stdout",
       "text": [
        "The Zen of Python, by Tim Peters\n",
        "\n",
        "Beautiful is better than ugly.\n",
        "Explicit is better than implicit.\n",
        "Simple is better than complex.\n",
        "Complex is better than complicated.\n",
        "Flat is better than nested.\n",
        "Sparse is better than dense.\n",
        "Readability counts.\n",
        "Special cases aren't special enough to break the rules.\n",
        "Although practicality beats purity.\n",
        "Errors should never pass silently.\n",
        "Unless explicitly silenced.\n",
        "In the face of ambiguity, refuse the temptation to guess.\n",
        "There should be one-- and preferably only one --obvious way to do it.\n",
        "Although that way may not be obvious at first unless you're Dutch.\n",
        "Now is better than never.\n",
        "Although never is often better than *right* now.\n",
        "If the implementation is hard to explain, it's a bad idea.\n",
        "If the implementation is easy to explain, it may be a good idea.\n",
        "Namespaces are one honking great idea -- let's do more of those!\n"
       ]
      }
     ],
     "prompt_number": 2
    },
    {
     "cell_type": "heading",
     "level": 2,
     "metadata": {},
     "source": [
      "Todo es un objeto"
     ]
    },
    {
     "cell_type": "code",
     "collapsed": false,
     "input": [
      "anint = 1024 # An integer Python object\n",
      "afloa = 1024.2 # A float object\n",
      "astri = \"A string object\" # A string\n",
      "alist = [1,2] # A list object\n",
      "print \"anint is of \"+ str(type(anint))+\" and has value \"+str(anint)+\".\"\n",
      "print \"afloa is of \"+ str(type(afloa))+\" and has value \"+str(afloa)+\".\"\n",
      "print \"astri is of \"+ str(type(astri))+\" and has value \"+str(astri)+\".\"\n",
      "print \"alist is of \"+ str(type(alist))+\" and has value \"+str(alist)+\".\""
     ],
     "language": "python",
     "metadata": {},
     "outputs": [
      {
       "output_type": "stream",
       "stream": "stdout",
       "text": [
        "anint is of <type 'int'> and has value 1024.\n",
        "afloa is of <type 'float'> and has value 1024.2.\n",
        "astri is of <type 'str'> and has value A string object.\n",
        "alist is of <type 'list'> and has value [1, 2].\n"
       ]
      }
     ],
     "prompt_number": 182
    },
    {
     "cell_type": "heading",
     "level": 2,
     "metadata": {},
     "source": [
      "Operaciones Aritm\u00e9ticas"
     ]
    },
    {
     "cell_type": "code",
     "collapsed": false,
     "input": [
      "# Doing arithmetic\n",
      "print \"# Addition: \"+\"1+1=\" + str(1+1)\n",
      "print \"# Multiplication: \"+\"1*2=\" + str(1*2)\n",
      "print \"# Division: \"+\"1/2=\" + str(1/2) # This is to show caution when manipulating floats\n",
      "print \"# Division: \"+\"1/2=\" + str(1./2)\n",
      "print \"# Division: \"+\"1/2=\" + str(1/2.)\n",
      "print \"# Exponentiation: \"+\"2^10=\" + str(2**10)\n",
      "# Para ejecutar la siguiente l\u00ednea es necesario tener numpy\n",
      "# print \"Function evaluation: \"+\"sin(pi/2)=\" + str(sin(pi/2))\n",
      "print \"# Modular division:\"\n",
      "for i in range(20):\n",
      "    print \"  \"+str(i)+\"%11=\"+str(i%11)"
     ],
     "language": "python",
     "metadata": {},
     "outputs": [
      {
       "output_type": "stream",
       "stream": "stdout",
       "text": [
        "# Addition: 1+1=2\n",
        "# Multiplication: 1*2=2\n",
        "# Division: 1/2=0\n",
        "# Division: 1/2=0.5\n",
        "# Division: 1/2=0.5\n",
        "# Exponentiation: 2^10=1024\n",
        "# Modular division:\n",
        "  0%11=0\n",
        "  1%11=1\n",
        "  2%11=2\n",
        "  3%11=3\n",
        "  4%11=4\n",
        "  5%11=5\n",
        "  6%11=6\n",
        "  7%11=7\n",
        "  8%11=8\n",
        "  9%11=9\n",
        "  10%11=10\n",
        "  11%11=0\n",
        "  12%11=1\n",
        "  13%11=2\n",
        "  14%11=3\n",
        "  15%11=4\n",
        "  16%11=5\n",
        "  17%11=6\n",
        "  18%11=7\n",
        "  19%11=8\n"
       ]
      }
     ],
     "prompt_number": 176
    },
    {
     "cell_type": "heading",
     "level": 2,
     "metadata": {},
     "source": [
      "Strings"
     ]
    },
    {
     "cell_type": "code",
     "collapsed": false,
     "input": [
      "x = \"Hello\"\n",
      "print x"
     ],
     "language": "python",
     "metadata": {},
     "outputs": [
      {
       "output_type": "stream",
       "stream": "stdout",
       "text": [
        "Hello\n"
       ]
      }
     ],
     "prompt_number": 166
    },
    {
     "cell_type": "code",
     "collapsed": false,
     "input": [
      "# Characters in a string can be accesed as if it were a list\n",
      "x[-1]+x[-2]+x[1]"
     ],
     "language": "python",
     "metadata": {},
     "outputs": [
      {
       "metadata": {},
       "output_type": "pyout",
       "prompt_number": 167,
       "text": [
        "'ole'"
       ]
      }
     ],
     "prompt_number": 167
    },
    {
     "cell_type": "code",
     "collapsed": false,
     "input": [
      "# Use a comma at the end of string to avoid a newline\n",
      "print \"1 -\"\n",
      "print \"2 -\"\n",
      "print \"3\"\n",
      "print \"**VS**\"\n",
      "print \"1 -\",\n",
      "print \"2 -\",\n",
      "print \"3\""
     ],
     "language": "python",
     "metadata": {},
     "outputs": [
      {
       "output_type": "stream",
       "stream": "stdout",
       "text": [
        "1 -\n",
        "2 -\n",
        "3\n",
        "**VS**\n",
        "1 - 2 - 3\n"
       ]
      }
     ],
     "prompt_number": 2
    },
    {
     "cell_type": "code",
     "collapsed": false,
     "input": [
      "# Concatenate strings by \"adding\" them\n",
      "print \"Hello \" + \"World\""
     ],
     "language": "python",
     "metadata": {},
     "outputs": [
      {
       "output_type": "stream",
       "stream": "stdout",
       "text": [
        "Hello World\n"
       ]
      }
     ],
     "prompt_number": 3
    },
    {
     "cell_type": "code",
     "collapsed": false,
     "input": [
      "# Use asterisk to print a string several times\n",
      "print \" Hello World\" * 10"
     ],
     "language": "python",
     "metadata": {},
     "outputs": [
      {
       "output_type": "stream",
       "stream": "stdout",
       "text": [
        " Hello World Hello World Hello World Hello World Hello World Hello World Hello World Hello World Hello World Hello World\n"
       ]
      }
     ],
     "prompt_number": 14
    },
    {
     "cell_type": "code",
     "collapsed": false,
     "input": [
      "# String manipulation\n",
      "first=\"uno\"\n",
      "second=\"dos\"\n",
      "third=\"tres\"\n",
      "print first, second, third\n",
      "print first + \", \" + second + \", \" + third\n",
      "# Cannot mix strings and integers in print, must convert numbers to strings\n",
      "print first + \": \" + str(1)"
     ],
     "language": "python",
     "metadata": {},
     "outputs": [
      {
       "output_type": "stream",
       "stream": "stdout",
       "text": [
        "uno dos tres\n",
        "uno, dos, tres\n",
        "uno: 1\n"
       ]
      }
     ],
     "prompt_number": 15
    },
    {
     "cell_type": "code",
     "collapsed": false,
     "input": [
      "# El c\u00f3digo ASCII\n",
      "print \"#\"*30+\" The ASCII table \"+\"#\"*30+\"\\n\"\n",
      "for i in range(33,128):\n",
      "    if i<100:\n",
      "        pad=\" \"\n",
      "    else:\n",
      "        pad=\"\"\n",
      "    print pad+str(i),\n",
      "    print \"--->\",\n",
      "    if i%7==4:\n",
      "        print chr(i)\n",
      "    else:\n",
      "        print chr(i),\n",
      "print \"\\n\\n\"+\"#\"*77"
     ],
     "language": "python",
     "metadata": {},
     "outputs": [
      {
       "output_type": "stream",
       "stream": "stdout",
       "text": [
        "############################## The ASCII table ##############################\n",
        "\n",
        " 33 ---> !  34 ---> \"  35 ---> #  36 ---> $  37 ---> %  38 ---> &  39 ---> '\n",
        " 40 ---> (  41 ---> )  42 ---> *  43 ---> +  44 ---> ,  45 ---> -  46 ---> .\n",
        " 47 ---> /  48 ---> 0  49 ---> 1  50 ---> 2  51 ---> 3  52 ---> 4  53 ---> 5\n",
        " 54 ---> 6  55 ---> 7  56 ---> 8  57 ---> 9  58 ---> :  59 ---> ;  60 ---> <\n",
        " 61 ---> =  62 ---> >  63 ---> ?  64 ---> @  65 ---> A  66 ---> B  67 ---> C\n",
        " 68 ---> D  69 ---> E  70 ---> F  71 ---> G  72 ---> H  73 ---> I  74 ---> J\n",
        " 75 ---> K  76 ---> L  77 ---> M  78 ---> N  79 ---> O  80 ---> P  81 ---> Q\n",
        " 82 ---> R  83 ---> S  84 ---> T  85 ---> U  86 ---> V  87 ---> W  88 ---> X\n",
        " 89 ---> Y  90 ---> Z  91 ---> [  92 ---> \\  93 ---> ]  94 ---> ^  95 ---> _\n",
        " 96 ---> `  97 ---> a  98 ---> b  99 ---> c 100 ---> d 101 ---> e 102 ---> f\n",
        "103 ---> g 104 ---> h 105 ---> i 106 ---> j 107 ---> k 108 ---> l 109 ---> m\n",
        "110 ---> n 111 ---> o 112 ---> p 113 ---> q 114 ---> r 115 ---> s 116 ---> t\n",
        "117 ---> u 118 ---> v 119 ---> w 120 ---> x 121 ---> y 122 ---> z 123 ---> {\n",
        "124 ---> | 125 ---> } 126 ---> ~ 127 ---> \u007f \n",
        "\n",
        "#############################################################################\n"
       ]
      }
     ],
     "prompt_number": 61
    },
    {
     "cell_type": "code",
     "collapsed": false,
     "input": [
      "# Un poquito de criptograf\u00eda\n",
      "mensaje=\"Sta viator, heroem calcas!\"\n",
      "encrypted=\"\"\n",
      "for i in mensaje:\n",
      "    # Tomar el c\u00f3digo ASCII de cada caracter y sumarle uno\n",
      "    encrypted+=chr(ord(i)+1)\n",
      "print \"DECODED: \"+mensaje\n",
      "print \"ENCODED: \"+encrypted"
     ],
     "language": "python",
     "metadata": {},
     "outputs": [
      {
       "output_type": "stream",
       "stream": "stdout",
       "text": [
        "DECODED: Sta viator, heroem calcas!\n",
        "ENCODED: Tub!wjbups-!ifspfn!dbmdbt\"\n"
       ]
      }
     ],
     "prompt_number": 64
    },
    {
     "cell_type": "heading",
     "level": 2,
     "metadata": {},
     "source": [
      "Augmenting Python"
     ]
    },
    {
     "cell_type": "code",
     "collapsed": false,
     "input": [
      "# Importar todo numpy como numpy\n",
      "pii=3.141592653589793238465265\n",
      "import numpy\n",
      "print numpy.sin(pii/2)\n",
      "# Importarlo todo con un alias\n",
      "import numpy as np\n",
      "print np.sin(pii/2)\n",
      "# Importarlo todo y mezclar los namespace\n",
      "from numpy import *\n",
      "print sin(pii/2)\n",
      "# Importar solo una funci\u00f3n\n",
      "from numpy import cos\n",
      "print cos(pii)"
     ],
     "language": "python",
     "metadata": {},
     "outputs": [
      {
       "output_type": "stream",
       "stream": "stdout",
       "text": [
        "1.0\n",
        "1.0\n",
        "1.0\n",
        "-1.0\n"
       ]
      }
     ],
     "prompt_number": 161
    },
    {
     "cell_type": "code",
     "collapsed": false,
     "input": [
      "# Python, \u00a1habla en lenguas!\n",
      "# Para a\u00f1adir este m\u00f3dulo hice en la terminal\n",
      "# pip install translate\n",
      "# Utiliza Google Translate\n",
      "# +info: https://github.com/terryyin/google-translate-python\n",
      "import translate\n",
      "langnames = ['Alem\u00e1n','\u00c1rabe','Bengal\u00ed','Bosnio','B\u00falgaro','Canar\u00e9s',\n",
      "             'Checo','Coreano','Croata','Dan\u00e9s','Espa\u00f1ol','Estonio',\n",
      "             'Farsi','Finland\u00e9s','Franc\u00e9s','Griego','Gujarati','Hebreo',\n",
      "             'Hind\u00fa','Holand\u00e9s','H\u00fangaro','Ingl\u00e9s','Italiano',\n",
      "             'Japon\u00e9s','Lat\u00edn','Macedonio','Mandar\u00edn',\n",
      "             'Mongol','Noruego','Polaco','Portugu\u00e9s','Punyab\u00ed','Rumano',\n",
      "             'Ruso','Sueco','Tailand\u00e9s','Ucraniano','Vietnamita','Yidis']\n",
      "langcodes = ['de','ar','bn','bs','bg','kn','cs','ko','hr','da','es','et',\n",
      "             'fa','fi','fr','el','gu','iw','hi','nl','hu','en','it',\n",
      "             'ja','la','mk','zh','mn','no','pl','pt','pa','ro','ru','sv',\n",
      "             'th','uk','vi','yi']\n",
      "j=0\n",
      "for i in langcodes:\n",
      "    translator = Translator(to_lang=i)\n",
      "    if ( j < 9):\n",
      "        rot = \"0\"+str(j+1)\n",
      "    else:\n",
      "        rot = str(j+1)\n",
      "    print rot,\n",
      "    print \"=======\"+langnames[j]+\"(\"+langcodes[j]+\")\"+ \\\n",
      "    \"=\"*(13-len(unicode(langnames[j],\"UTF-8\"))),\n",
      "    translation = translator.translate(\"Hello world!\")\n",
      "    print translation\n",
      "    j=j+1"
     ],
     "language": "python",
     "metadata": {},
     "outputs": [
      {
       "output_type": "stream",
       "stream": "stdout",
       "text": [
        "01 =======Alem\u00e1n(de)======= "
       ]
      },
      {
       "output_type": "stream",
       "stream": "stdout",
       "text": [
        "Hallo Welt!\n",
        "02 =======\u00c1rabe(ar)======== "
       ]
      },
      {
       "output_type": "stream",
       "stream": "stdout",
       "text": [
        "\u0645\u0631\u062d\u0628\u0627 \u0628\u0627\u0644\u0639\u0627\u0644\u0645!\n",
        "03 =======Bengal\u00ed(bn)====== "
       ]
      },
      {
       "output_type": "stream",
       "stream": "stdout",
       "text": [
        "\u09b9\u09cd\u09af\u09be\u09b2\u09cb \u09a6\u09c1\u09a8\u09bf\u09af\u09bc\u09be!\n",
        "04 =======Bosnio(bs)======= "
       ]
      },
      {
       "output_type": "stream",
       "stream": "stdout",
       "text": [
        "Pozdrav svijetu!\n",
        "05 =======B\u00falgaro(bg)====== "
       ]
      },
      {
       "output_type": "stream",
       "stream": "stdout",
       "text": [
        "\u0417\u0434\u0440\u0430\u0432\u0435\u0439, \u0441\u0432\u044f\u0442!\n",
        "06 =======Canar\u00e9s(kn)====== "
       ]
      },
      {
       "output_type": "stream",
       "stream": "stdout",
       "text": [
        "\u0cb9\u0cb2\u0ccb \u0cb5\u0cb0\u0ccd\u0cb2\u0ccd\u0ca1\u0ccd!\n",
        "07 =======Checo(cs)======== "
       ]
      },
      {
       "output_type": "stream",
       "stream": "stdout",
       "text": [
        "Ahoj v\u0161ichni!\n",
        "08 =======Coreano(ko)====== "
       ]
      },
      {
       "output_type": "stream",
       "stream": "stdout",
       "text": [
        "\uc5ec\ubcf4\uc138\uc694 \uc138\uacc4!\n",
        "09 =======Croata(hr)======= "
       ]
      },
      {
       "output_type": "stream",
       "stream": "stdout",
       "text": [
        "Pozdrav svijetu!\n",
        "10 =======Dan\u00e9s(da)======== "
       ]
      },
      {
       "output_type": "stream",
       "stream": "stdout",
       "text": [
        "Hej Verden!\n",
        "11 =======Espa\u00f1ol(es)====== "
       ]
      },
      {
       "output_type": "stream",
       "stream": "stdout",
       "text": [
        "Hola Mundo!\n",
        "12 =======Estonio(et)====== "
       ]
      },
      {
       "output_type": "stream",
       "stream": "stdout",
       "text": [
        "Hello world!\n",
        "13 =======Farsi(fa)======== "
       ]
      },
      {
       "output_type": "stream",
       "stream": "stdout",
       "text": [
        "\u0633\u0644\u0627\u0645 \u062f\u0646\u06cc\u0627!\n",
        "14 =======Finland\u00e9s(fi)==== "
       ]
      },
      {
       "output_type": "stream",
       "stream": "stdout",
       "text": [
        "Moikka maailma!\n",
        "15 =======Franc\u00e9s(fr)====== "
       ]
      },
      {
       "output_type": "stream",
       "stream": "stdout",
       "text": [
        "Bonjour le monde!\n",
        "16 =======Griego(el)======= "
       ]
      },
      {
       "output_type": "stream",
       "stream": "stdout",
       "text": [
        "\u0393\u03b5\u03b9\u03b1 \u03c3\u03b1\u03c2 \u03ba\u03cc\u03c3\u03bc\u03bf!\n",
        "17 =======Gujarati(gu)===== "
       ]
      },
      {
       "output_type": "stream",
       "stream": "stdout",
       "text": [
        "\u0ab9\u0ac7\u0ab2\u0acb \u0ab5\u0ab0\u0acd\u0ab2\u0acd\u0aa1!\n",
        "18 =======Hebreo(iw)======= "
       ]
      },
      {
       "output_type": "stream",
       "stream": "stdout",
       "text": [
        "\u05e9\u05dc\u05d5\u05dd \u05e2\u05d5\u05dc\u05dd!\n",
        "19 =======Hind\u00fa(hi)======== "
       ]
      },
      {
       "output_type": "stream",
       "stream": "stdout",
       "text": [
        "\u0939\u0948\u0932\u094b \u0935\u0930\u094d\u0932\u094d\u0921!\n",
        "20 =======Holand\u00e9s(nl)===== "
       ]
      },
      {
       "output_type": "stream",
       "stream": "stdout",
       "text": [
        "Hallo wereld!\n",
        "21 =======H\u00fangaro(hu)====== "
       ]
      },
      {
       "output_type": "stream",
       "stream": "stdout",
       "text": [
        "Hello vil\u00e1g!\n",
        "22 =======Ingl\u00e9s(en)======= "
       ]
      },
      {
       "output_type": "stream",
       "stream": "stdout",
       "text": [
        "Hello world!\n",
        "23 =======Italiano(it)===== "
       ]
      },
      {
       "output_type": "stream",
       "stream": "stdout",
       "text": [
        "Ciao mondo!\n",
        "24 =======Japon\u00e9s(ja)====== "
       ]
      },
      {
       "output_type": "stream",
       "stream": "stdout",
       "text": [
        "\u3053\u3093\u306b\u3061\u306f\u4e16\u754c\uff01\n",
        "25 =======Lat\u00edn(la)======== "
       ]
      },
      {
       "output_type": "stream",
       "stream": "stdout",
       "text": [
        "Salve world!\n",
        "26 =======Macedonio(mk)==== "
       ]
      },
      {
       "output_type": "stream",
       "stream": "stdout",
       "text": [
        "\u0417\u0434\u0440\u0430\u0432\u043e \u0441\u0432\u0435\u0442\u043e\u0442!\n",
        "27 =======Mandar\u00edn(zh)===== "
       ]
      },
      {
       "output_type": "stream",
       "stream": "stdout",
       "text": [
        "\u4f60\u597d\u4e16\u754c\uff01\n",
        "28 =======Mongol(mn)======= "
       ]
      },
      {
       "output_type": "stream",
       "stream": "stdout",
       "text": [
        "\u0411\u04af\u0433\u0434\u044d\u044d\u0440\u044d\u044d \u0441\u0430\u0439\u043d \u0431\u0430\u0439\u043d\u0430 \u0443\u0443!\n",
        "29 =======Noruego(no)====== "
       ]
      },
      {
       "output_type": "stream",
       "stream": "stdout",
       "text": [
        "Hei, verden!\n",
        "30 =======Polaco(pl)======= "
       ]
      },
      {
       "output_type": "stream",
       "stream": "stdout",
       "text": [
        "Witaj, \u015bwiecie!\n",
        "31 =======Portugu\u00e9s(pt)==== "
       ]
      },
      {
       "output_type": "stream",
       "stream": "stdout",
       "text": [
        "Ol\u00e1 Mundo!\n",
        "32 =======Punyab\u00ed(pa)====== "
       ]
      },
      {
       "output_type": "stream",
       "stream": "stdout",
       "text": [
        "\u0a38\u0a24\u0a3f \u0a38\u0a4d\u0a30\u0a40 \u0a05\u0a15\u0a3e\u0a32 \u0a26\u0a41\u0a28\u0a3f\u0a06!\n",
        "33 =======Rumano(ro)======= "
       ]
      },
      {
       "output_type": "stream",
       "stream": "stdout",
       "text": [
        "Salut Lume!\n",
        "34 =======Ruso(ru)========= "
       ]
      },
      {
       "output_type": "stream",
       "stream": "stdout",
       "text": [
        "\u041f\u0440\u0438\u0432\u0435\u0442, \u043c\u0438\u0440!\n",
        "35 =======Sueco(sv)======== "
       ]
      },
      {
       "output_type": "stream",
       "stream": "stdout",
       "text": [
        "Hej v\u00e4rlden!\n",
        "36 =======Tailand\u00e9s(th)==== "
       ]
      },
      {
       "output_type": "stream",
       "stream": "stdout",
       "text": [
        "\u0e2a\u0e27\u0e31\u0e2a\u0e14\u0e35\u0e0a\u0e32\u0e27\u0e42\u0e25\u0e01!\n",
        "37 =======Ucraniano(uk)==== "
       ]
      },
      {
       "output_type": "stream",
       "stream": "stdout",
       "text": [
        "\u041f\u0440\u0438\u0432\u0456\u0442, \u0441\u0432\u0456\u0442!\n",
        "38 =======Vietnamita(vi)=== "
       ]
      },
      {
       "output_type": "stream",
       "stream": "stdout",
       "text": [
        "Xin ch\u00e0o th\u1ebf gi\u1edbi!\n",
        "39 =======Yidis(yi)======== "
       ]
      },
      {
       "output_type": "stream",
       "stream": "stdout",
       "text": [
        "\u05d4\u05e2\u05dc\u05d0 \u05d5\u05d5\u05e2\u05dc\u05d8!\n"
       ]
      }
     ],
     "prompt_number": 146
    },
    {
     "cell_type": "code",
     "collapsed": false,
     "input": [
      "# Adding local OS functionalities\n",
      "import os\n",
      "phrase = raw_input(\"What you wanna say? \")\n",
      "os.system(\"say \" + phrase)"
     ],
     "language": "python",
     "metadata": {},
     "outputs": [
      {
       "name": "stdout",
       "output_type": "stream",
       "stream": "stdout",
       "text": [
        "What you wanna say? My name is John.\n"
       ]
      },
      {
       "metadata": {},
       "output_type": "pyout",
       "prompt_number": 77,
       "text": [
        "0"
       ]
      }
     ],
     "prompt_number": 77
    },
    {
     "cell_type": "code",
     "collapsed": false,
     "input": [
      "# To make plots include pylab which imports numpy and matplotlib\n",
      "%pylab inline \n",
      "x = np.linspace(-3, 3, 500) # Creates an numpy array going from -3 to 3 in 500 steps\n",
      "figure()\n",
      "plot(x,exp(-x**2/2))\n",
      "xlabel('x')\n",
      "ylabel('y(x)')\n",
      "grid(True)\n",
      "title('The Normal Distribution $x^2$')\n",
      "show()"
     ],
     "language": "python",
     "metadata": {},
     "outputs": [
      {
       "output_type": "stream",
       "stream": "stdout",
       "text": [
        "Populating the interactive namespace from numpy and matplotlib\n"
       ]
      },
      {
       "metadata": {},
       "output_type": "display_data",
       "png": "[encoded data removed]",
       "text": [
        "<matplotlib.figure.Figure at 0x10a9ea490>"
       ]
      }
     ],
     "prompt_number": 185
    },
    {
     "cell_type": "heading",
     "level": 2,
     "metadata": {},
     "source": [
      "\u00bfC\u00f3mo solicitar informaci\u00f3n al usuario?"
     ]
    },
    {
     "cell_type": "code",
     "collapsed": false,
     "input": [
      "x = raw_input(\"\u00bfEn qu\u00e9 a\u00f1o estamos? \")"
     ],
     "language": "python",
     "metadata": {},
     "outputs": [
      {
       "name": "stdout",
       "output_type": "stream",
       "stream": "stdout",
       "text": [
        "\u00bfEn qu\u00e9 a\u00f1o estamos? 2015\n"
       ]
      }
     ],
     "prompt_number": 86
    },
    {
     "cell_type": "code",
     "collapsed": false,
     "input": [
      "print x"
     ],
     "language": "python",
     "metadata": {},
     "outputs": [
      {
       "output_type": "stream",
       "stream": "stdout",
       "text": [
        "2015\n"
       ]
      }
     ],
     "prompt_number": 87
    },
    {
     "cell_type": "code",
     "collapsed": false,
     "input": [
      "# raw_input produce cadenas de caracteres\n",
      "# convertir al tipo deseado de ser necesario\n",
      "int(x) + 988"
     ],
     "language": "python",
     "metadata": {},
     "outputs": [
      {
       "metadata": {},
       "output_type": "pyout",
       "prompt_number": 163,
       "text": [
        "3003"
       ]
      }
     ],
     "prompt_number": 163
    },
    {
     "cell_type": "code",
     "collapsed": false,
     "input": [
      "# Asking the user for input\n",
      "var = raw_input(\"What is your name? \")\n",
      "print \"Your name is \"+var+\".\"\n",
      "melike = raw_input(\"Do you like Python?(y/n)\")\n",
      "if melike == \"y\":\n",
      "    print \"Excellent, me too!\"\n",
      "elif melike == \"n\":\n",
      "    print \"Oh, too bad.\"\n",
      "else:\n",
      "    print \"What's that?\""
     ],
     "language": "python",
     "metadata": {},
     "outputs": [
      {
       "name": "stdout",
       "output_type": "stream",
       "stream": "stdout",
       "text": [
        "What is your name? Juan\n"
       ]
      },
      {
       "output_type": "stream",
       "stream": "stdout",
       "text": [
        "Your name is Juan.\n"
       ]
      },
      {
       "name": "stdout",
       "output_type": "stream",
       "stream": "stdout",
       "text": [
        "Do you like Python?(y/n)y\n"
       ]
      },
      {
       "output_type": "stream",
       "stream": "stdout",
       "text": [
        "Excellent, me too!\n"
       ]
      }
     ],
     "prompt_number": 10
    },
    {
     "cell_type": "heading",
     "level": 2,
     "metadata": {},
     "source": [
      "Comentarios"
     ]
    },
    {
     "cell_type": "code",
     "collapsed": false,
     "input": [
      "# Comments are preceded by hastag (#)\n",
      "for i in range(5):\n",
      "    print i\n",
      "for i in range(5):\n",
      "    print i, # Everytime print is invoked a newline is drawn, append a comma\n",
      "             # at the end to prevent this "
     ],
     "language": "python",
     "metadata": {},
     "outputs": [
      {
       "output_type": "stream",
       "stream": "stdout",
       "text": [
        "0\n",
        "1\n",
        "2\n",
        "3\n",
        "4\n",
        "0 1 2 3 4\n"
       ]
      }
     ],
     "prompt_number": 38
    },
    {
     "cell_type": "heading",
     "level": 2,
     "metadata": {},
     "source": [
      "Expresiones l\u00f3gicas"
     ]
    },
    {
     "cell_type": "code",
     "collapsed": false,
     "input": [
      "1 == 1 # Dos signos igual para decidir si dos objetos son iguales"
     ],
     "language": "python",
     "metadata": {},
     "outputs": [
      {
       "metadata": {},
       "output_type": "pyout",
       "prompt_number": 117,
       "text": [
        "True"
       ]
      }
     ],
     "prompt_number": 117
    },
    {
     "cell_type": "code",
     "collapsed": false,
     "input": [
      "2 == 1"
     ],
     "language": "python",
     "metadata": {},
     "outputs": [
      {
       "metadata": {},
       "output_type": "pyout",
       "prompt_number": 13,
       "text": [
        "False"
       ]
      }
     ],
     "prompt_number": 13
    },
    {
     "cell_type": "code",
     "collapsed": false,
     "input": [
      "# AND Truth table\n",
      "# And, only true when both expressions are true\n",
      "print True and True\n",
      "print True and False\n",
      "print False and True\n",
      "print False and False"
     ],
     "language": "python",
     "metadata": {},
     "outputs": [
      {
       "output_type": "stream",
       "stream": "stdout",
       "text": [
        "True\n",
        "False\n",
        "False\n",
        "False\n"
       ]
      }
     ],
     "prompt_number": 95
    },
    {
     "cell_type": "code",
     "collapsed": false,
     "input": [
      "# OR Truth table\n",
      "# OR, true when at least one of the conditions is met.\n",
      "print True or True\n",
      "print True or False\n",
      "print False or True\n",
      "print False or False"
     ],
     "language": "python",
     "metadata": {},
     "outputs": [
      {
       "output_type": "stream",
       "stream": "stdout",
       "text": [
        "True\n",
        "True\n",
        "True\n",
        "False\n"
       ]
      }
     ],
     "prompt_number": 90
    },
    {
     "cell_type": "code",
     "collapsed": false,
     "input": [
      "# En algunos casos el uso de par\u00e9ntesis se vuelve necesario\n",
      "print True or False and False\n",
      "print (True or False) and False\n",
      "print \"Boolean Operator Priority in Python (highest to lowest):\"\n",
      "print \"p == q, p != q, not p, p and q, p or q\""
     ],
     "language": "python",
     "metadata": {},
     "outputs": [
      {
       "output_type": "stream",
       "stream": "stdout",
       "text": [
        "True\n",
        "False\n",
        "Boolean Operator Priority in Python (highest to lowest):\n",
        "p == q, p != q, not p, p and q, p or q\n"
       ]
      }
     ],
     "prompt_number": 97
    },
    {
     "cell_type": "code",
     "collapsed": false,
     "input": [
      "print \"Operator precedence in Python\"\n",
      "from IPython.display import HTML\n",
      "HTML('<iframe src=https://docs.python.org/2.7/reference/expressions.html#operator-precedence width=500 height=350></iframe>')"
     ],
     "language": "python",
     "metadata": {},
     "outputs": [
      {
       "output_type": "stream",
       "stream": "stdout",
       "text": [
        "Operator precedence in Python\n"
       ]
      },
      {
       "html": [
        "<iframe src=https://docs.python.org/2.7/reference/expressions.html#operator-precedence width=500 height=350></iframe>"
       ],
       "metadata": {},
       "output_type": "pyout",
       "prompt_number": 91,
       "text": [
        "<IPython.core.display.HTML at 0x105019f10>"
       ]
      }
     ],
     "prompt_number": 91
    },
    {
     "cell_type": "code",
     "collapsed": false,
     "input": [
      "print \"A few examples of numerical comparisons in Python\\n\"\n",
      "# Sequential inequalities are interpreted as in conventional\n",
      "# mathematics\n",
      "print \"Testing the logical evaluation of inequalities....\"\n",
      "print 1 < 2 < 3\n",
      "print 2 <= 1\n",
      "print 2 >= 1\n",
      "# Intelligent comparison of ints and floats\n",
      "print \"Testing the intelligent comparison of ints and floats....\"\n",
      "print 1. == 1\n",
      "# Not equal !=\n",
      "print \"Testing the not logical operator....\"\n",
      "print 2 != 1"
     ],
     "language": "python",
     "metadata": {},
     "outputs": [
      {
       "output_type": "stream",
       "stream": "stdout",
       "text": [
        "A few examples of numerical comparisons in Python\n",
        "\n",
        "Testing the logical evaluation of inequalities....\n",
        "True\n",
        "False\n",
        "True\n",
        "Testing the intelligent comparison of ints and floats....\n",
        "True\n",
        "Testing the not logical operator....\n",
        "True\n"
       ]
      }
     ],
     "prompt_number": 96
    },
    {
     "cell_type": "heading",
     "level": 2,
     "metadata": {},
     "source": [
      "If, else y elif"
     ]
    },
    {
     "cell_type": "code",
     "collapsed": false,
     "input": [
      "x = 9\n",
      "if x <= 10:\n",
      "    print \"x es menor o igual a 10\"\n",
      "x = 11\n",
      "if x > 10:\n",
      "    print \"x es mayor a 10\""
     ],
     "language": "python",
     "metadata": {},
     "outputs": [
      {
       "output_type": "stream",
       "stream": "stdout",
       "text": [
        "x es menor o igual a 10\n",
        "x es mayor a 10\n"
       ]
      }
     ],
     "prompt_number": 119
    },
    {
     "cell_type": "code",
     "collapsed": false,
     "input": [
      "# The else statement is executed in case the condition in if is false\n",
      "x = 1\n",
      "if x < 1:\n",
      "    print \"x es menor a 1\"\n",
      "else:\n",
      "    print \"x es mayor o igual a 1\""
     ],
     "language": "python",
     "metadata": {},
     "outputs": [
      {
       "output_type": "stream",
       "stream": "stdout",
       "text": [
        "x es mayor o igual a 1\n"
       ]
      }
     ],
     "prompt_number": 115
    },
    {
     "cell_type": "code",
     "collapsed": false,
     "input": [
      "# Conditions are evaluated one after the other and only the statement of the first true one is evaluated\n",
      "for i in range(12):\n",
      "    if i%3==0:\n",
      "        print \"cero\",\n",
      "    elif i%3==1:\n",
      "        print \"uno\",\n",
      "    elif i%3==2:\n",
      "        print \"dos\"\n",
      "    elif i==1:\n",
      "        print \"this never goes\""
     ],
     "language": "python",
     "metadata": {},
     "outputs": [
      {
       "output_type": "stream",
       "stream": "stdout",
       "text": [
        "cero uno dos\n",
        "cero uno dos\n",
        "cero uno dos\n",
        "cero uno dos\n"
       ]
      }
     ],
     "prompt_number": 82
    },
    {
     "cell_type": "heading",
     "level": 2,
     "metadata": {},
     "source": [
      "While"
     ]
    },
    {
     "cell_type": "code",
     "collapsed": false,
     "input": [
      "# Indentation is essential\n",
      "j = 1\n",
      "while ( j <= 10 ):\n",
      "print j\n",
      "    j = j + 1 "
     ],
     "language": "python",
     "metadata": {},
     "outputs": [
      {
       "ename": "IndentationError",
       "evalue": "expected an indented block (<ipython-input-27-46a05e2f834f>, line 4)",
       "output_type": "pyerr",
       "traceback": [
        "\u001b[0;36m  File \u001b[0;32m\"<ipython-input-27-46a05e2f834f>\"\u001b[0;36m, line \u001b[0;32m4\u001b[0m\n\u001b[0;31m    print j\u001b[0m\n\u001b[0m        ^\u001b[0m\n\u001b[0;31mIndentationError\u001b[0m\u001b[0;31m:\u001b[0m expected an indented block\n"
       ]
      }
     ],
     "prompt_number": 27
    },
    {
     "cell_type": "code",
     "collapsed": false,
     "input": [
      "# Indentation is essential\n",
      "j = 1\n",
      "while ( j <= 10 ):\n",
      "    j = j + 1 \n",
      "print j"
     ],
     "language": "python",
     "metadata": {},
     "outputs": [
      {
       "output_type": "stream",
       "stream": "stdout",
       "text": [
        "11\n"
       ]
      }
     ],
     "prompt_number": 18
    },
    {
     "cell_type": "code",
     "collapsed": false,
     "input": [
      "# I also know how to do while loops\n",
      "j = 1\n",
      "while ( j <= 10 ):\n",
      "    print j,\n",
      "    j = j + 1"
     ],
     "language": "python",
     "metadata": {},
     "outputs": [
      {
       "output_type": "stream",
       "stream": "stdout",
       "text": [
        "1 2 3 4 5 6 7 8 9 10\n"
       ]
      }
     ],
     "prompt_number": 24
    },
    {
     "cell_type": "heading",
     "level": 1,
     "metadata": {},
     "source": [
      "for"
     ]
    },
    {
     "cell_type": "code",
     "collapsed": false,
     "input": [
      "for i in range(1,10):\n",
      "    thesquare = i**2\n",
      "    print str(i)+\"^2=\"+str(thesquare)"
     ],
     "language": "python",
     "metadata": {},
     "outputs": [
      {
       "output_type": "stream",
       "stream": "stdout",
       "text": [
        "1^2=1\n",
        "2^2=4\n",
        "3^2=9\n",
        "4^2=16\n",
        "5^2=25\n",
        "6^2=36\n",
        "7^2=49\n",
        "8^2=64\n",
        "9^2=81\n"
       ]
      }
     ],
     "prompt_number": 186
    },
    {
     "cell_type": "code",
     "collapsed": false,
     "input": [
      "inverted=\"\"\n",
      "for s in \"Juan David Lizarazo\":\n",
      "    inverted = s + inverted\n",
      "print inverted"
     ],
     "language": "python",
     "metadata": {},
     "outputs": [
      {
       "output_type": "stream",
       "stream": "stdout",
       "text": [
        "ozaraziL divaD nauJ\n"
       ]
      }
     ],
     "prompt_number": 190
    },
    {
     "cell_type": "code",
     "collapsed": false,
     "input": [
      "lista=[\"casa\",\"perro\",\"\u00e1rbol\",\"merienda\"]\n",
      "for element in lista:\n",
      "    print \"elemento: \"+element"
     ],
     "language": "python",
     "metadata": {},
     "outputs": [
      {
       "output_type": "stream",
       "stream": "stdout",
       "text": [
        "elemento: casa\n",
        "elemento: perro\n",
        "elemento: \u00e1rbol\n",
        "elemento: merienda\n"
       ]
      }
     ],
     "prompt_number": 189
    },
    {
     "cell_type": "heading",
     "level": 2,
     "metadata": {},
     "source": [
      "Listas"
     ]
    },
    {
     "cell_type": "code",
     "collapsed": false,
     "input": [
      "lista = range(100)\n",
      "print lista"
     ],
     "language": "python",
     "metadata": {},
     "outputs": [
      {
       "output_type": "stream",
       "stream": "stdout",
       "text": [
        "[0, 1, 2, 3, 4, 5, 6, 7, 8, 9, 10, 11, 12, 13, 14, 15, 16, 17, 18, 19, 20, 21, 22, 23, 24, 25, 26, 27, 28, 29, 30, 31, 32, 33, 34, 35, 36, 37, 38, 39, 40, 41, 42, 43, 44, 45, 46, 47, 48, 49, 50, 51, 52, 53, 54, 55, 56, 57, 58, 59, 60, 61, 62, 63, 64, 65, 66, 67, 68, 69, 70, 71, 72, 73, 74, 75, 76, 77, 78, 79, 80, 81, 82, 83, 84, 85, 86, 87, 88, 89, 90, 91, 92, 93, 94, 95, 96, 97, 98, 99]\n"
       ]
      }
     ],
     "prompt_number": 16
    },
    {
     "cell_type": "code",
     "collapsed": false,
     "input": [
      "lista2 = lista[0:99:2]\n",
      "print lista2"
     ],
     "language": "python",
     "metadata": {},
     "outputs": [
      {
       "output_type": "stream",
       "stream": "stdout",
       "text": [
        "[0, 2, 4, 6, 8, 10, 12, 14, 16, 18, 20, 22, 24, 26, 28, 30, 32, 34, 36, 38, 40, 42, 44, 46, 48, 50, 52, 54, 56, 58, 60, 62, 64, 66, 68, 70, 72, 74, 76, 78, 80, 82, 84, 86, 88, 90, 92, 94, 96, 98]\n"
       ]
      }
     ],
     "prompt_number": 17
    },
    {
     "cell_type": "code",
     "collapsed": false,
     "input": [
      "# Listas\n",
      "print \"*\"*15+\"1\"+\"*\"*15\n",
      "# Define a list and print it\n",
      "thelist = range(10) \n",
      "print thelist\n",
      "\n",
      "print \"*\"*15+\"2\"+\"*\"*15\n",
      "# Define a list by stating its elements and then print it\n",
      "thelist = [2, 6, 3, 3, 6, 2, 0]\n",
      "print thelist[0] # The first element's index is 0\n",
      "print thelist[6] # The last element's index is the lenght of the array - 1\n",
      "# One can invoke the length of a list with the function len\n",
      "print \"The length of the list is \"+ str(len(thelist)) + \".\"\n",
      "print thelist\n",
      "\n",
      "print \"*\"*15+\"3\"+\"*\"*15\n",
      "# This to show how to change elements in an array\n",
      "thelist[0] = 1 # The index goes in square brackets\n",
      "print thelist\n",
      "\n",
      "print \"*\"*15+\"3\"+\"*\"*15\n",
      "# If two lists are made equal to one another, they \n",
      "# remain the same thing when either is changed\n",
      "thelist2 = thelist               \n",
      "print thelist2\n",
      "thelist2[0] = 9 # I change one element in thelist2\n",
      "print thelist2\n",
      "print thelist   # It is also changed in thelist\n",
      "thelist[0] = 1 # I change one element in thelist\n",
      "print thelist\n",
      "print thelist2 # It is also changed in thelist2"
     ],
     "language": "python",
     "metadata": {},
     "outputs": [
      {
       "output_type": "stream",
       "stream": "stdout",
       "text": [
        "***************1***************\n",
        "[0, 1, 2, 3, 4, 5, 6, 7, 8, 9]\n",
        "***************2***************\n",
        "2\n",
        "0\n",
        "The length of the list is 7.\n",
        "[2, 6, 3, 3, 6, 2, 0]\n",
        "***************3***************\n",
        "[1, 6, 3, 3, 6, 2, 0]\n",
        "***************3***************\n",
        "[1, 6, 3, 3, 6, 2, 0]\n",
        "[9, 6, 3, 3, 6, 2, 0]\n",
        "[9, 6, 3, 3, 6, 2, 0]\n",
        "[1, 6, 3, 3, 6, 2, 0]\n",
        "[1, 6, 3, 3, 6, 2, 0]\n"
       ]
      }
     ],
     "prompt_number": 4
    },
    {
     "cell_type": "code",
     "collapsed": false,
     "input": [
      "range(100)[1:10:1] "
     ],
     "language": "python",
     "metadata": {},
     "outputs": [
      {
       "metadata": {},
       "output_type": "pyout",
       "prompt_number": 140,
       "text": [
        "[1, 2, 3, 4, 5, 6, 7, 8, 9]"
       ]
      }
     ],
     "prompt_number": 140
    },
    {
     "cell_type": "code",
     "collapsed": false,
     "input": [
      "range(1,10)"
     ],
     "language": "python",
     "metadata": {},
     "outputs": [
      {
       "metadata": {},
       "output_type": "pyout",
       "prompt_number": 145,
       "text": [
        "[1, 2, 3, 4, 5, 6, 7, 8, 9]"
       ]
      }
     ],
     "prompt_number": 145
    },
    {
     "cell_type": "code",
     "collapsed": false,
     "input": [
      "# List comprehension\n",
      "x = []\n",
      "for i in range(10):\n",
      "    x.append(i**2)\n",
      "print x\n",
      "# Is equivalent to\n",
      "x = [i**2 for i in range(10) ]\n",
      "print x"
     ],
     "language": "python",
     "metadata": {},
     "outputs": [
      {
       "output_type": "stream",
       "stream": "stdout",
       "text": [
        "[0, 1, 4, 9, 16, 25, 36, 49, 64, 81]\n",
        "[0, 1, 4, 9, 16, 25, 36, 49, 64, 81]\n"
       ]
      }
     ],
     "prompt_number": 3
    },
    {
     "cell_type": "code",
     "collapsed": false,
     "input": [
      "# A nice example thanks to www.secnetix.de/olli/Python\n",
      "noprimes = [j for i in range(2, 8) for j in range(i*2, 50, i)]\n",
      "primes = [x for x in range(2, 50) if x not in noprimes]\n",
      "print primes"
     ],
     "language": "python",
     "metadata": {},
     "outputs": [
      {
       "output_type": "stream",
       "stream": "stdout",
       "text": [
        "[2, 3, 5, 7, 11, 13, 17, 19, 23, 29, 31, 37, 41, 43, 47]\n"
       ]
      }
     ],
     "prompt_number": 6
    },
    {
     "cell_type": "code",
     "collapsed": false,
     "input": [
      "# Lists within lists\n",
      "mat=[[1,2],[3,2]]\n",
      "print mat\n",
      "# What follows prints all the elements in the nested list in a format resembling matrices\n",
      "for j in mat:\n",
      "    for k in j:\n",
      "        print k,\n",
      "    print \"\""
     ],
     "language": "python",
     "metadata": {},
     "outputs": [
      {
       "output_type": "stream",
       "stream": "stdout",
       "text": [
        "[[1, 2], [3, 2]]\n",
        "1 2 \n",
        "3 2 \n"
       ]
      }
     ],
     "prompt_number": 107
    },
    {
     "cell_type": "code",
     "collapsed": false,
     "input": [
      "# Another example of nested lists\n",
      "# Identity matrix\n",
      "# First fill with zeroes\n",
      "mat=[[0 for i in range(10)] for j in range(10)]\n",
      "for i in range(10):\n",
      "    for j in range(10):\n",
      "        if i==j:\n",
      "            mat[i][j]=1\n",
      "for row in mat:\n",
      "    print row"
     ],
     "language": "python",
     "metadata": {},
     "outputs": [
      {
       "output_type": "stream",
       "stream": "stdout",
       "text": [
        "[1, 0, 0, 0, 0, 0, 0, 0, 0, 0]\n",
        "[0, 1, 0, 0, 0, 0, 0, 0, 0, 0]\n",
        "[0, 0, 1, 0, 0, 0, 0, 0, 0, 0]\n",
        "[0, 0, 0, 1, 0, 0, 0, 0, 0, 0]\n",
        "[0, 0, 0, 0, 1, 0, 0, 0, 0, 0]\n",
        "[0, 0, 0, 0, 0, 1, 0, 0, 0, 0]\n",
        "[0, 0, 0, 0, 0, 0, 1, 0, 0, 0]\n",
        "[0, 0, 0, 0, 0, 0, 0, 1, 0, 0]\n",
        "[0, 0, 0, 0, 0, 0, 0, 0, 1, 0]\n",
        "[0, 0, 0, 0, 0, 0, 0, 0, 0, 1]\n"
       ]
      }
     ],
     "prompt_number": 124
    },
    {
     "cell_type": "code",
     "collapsed": false,
     "input": [
      "# Yet another example of nested lists\n",
      "# Regular printer\n",
      "# First fill with zeroes\n",
      "mat=[[0 for i in range(10)] for j in range(10)]\n",
      "k=1\n",
      "for i in range(10):\n",
      "    for j in range(10):\n",
      "        mat[i][j]=k\n",
      "        k+=1\n",
      "# Print the nested list with proper padding\n",
      "for row in mat:\n",
      "    for element in row:\n",
      "        print '%03d' % element,\n",
      "    print \"\""
     ],
     "language": "python",
     "metadata": {},
     "outputs": [
      {
       "output_type": "stream",
       "stream": "stdout",
       "text": [
        "001 002 003 004 005 006 007 008 009 010 \n",
        "011 012 013 014 015 016 017 018 019 020 \n",
        "021 022 023 024 025 026 027 028 029 030 \n",
        "031 032 033 034 035 036 037 038 039 040 \n",
        "041 042 043 044 045 046 047 048 049 050 \n",
        "051 052 053 054 055 056 057 058 059 060 \n",
        "061 062 063 064 065 066 067 068 069 070 \n",
        "071 072 073 074 075 076 077 078 079 080 \n",
        "081 082 083 084 085 086 087 088 089 090 \n",
        "091 092 093 094 095 096 097 098 099 100 \n"
       ]
      }
     ],
     "prompt_number": 136
    },
    {
     "cell_type": "code",
     "collapsed": false,
     "input": [
      "print '%03d' % 8"
     ],
     "language": "python",
     "metadata": {},
     "outputs": [
      {
       "output_type": "stream",
       "stream": "stdout",
       "text": [
        "008\n"
       ]
      }
     ],
     "prompt_number": 133
    }
   ],
   "metadata": {}
  }
 ]
}