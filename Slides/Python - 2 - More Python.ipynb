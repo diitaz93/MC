{
 "metadata": {
  "name": "",
  "signature": "sha256:237e9e6d43117459c8d8f4f1fb9846fc7f11dc02bbce33632d47d6d375312972"
 },
 "nbformat": 3,
 "nbformat_minor": 0,
 "worksheets": [
  {
   "cells": [
    {
     "cell_type": "heading",
     "level": 1,
     "metadata": {},
     "source": [
      "More Python"
     ]
    },
    {
     "cell_type": "heading",
     "level": 2,
     "metadata": {},
     "source": [
      "Diccionarios"
     ]
    },
    {
     "cell_type": "code",
     "collapsed": false,
     "input": [
      "# Build a dictionary\n",
      "sol={}\n",
      "sol[\"masa\"]=1.9891E30\n",
      "sol[\"radio\"]=6.955E8\n",
      "for key in sol.keys():\n",
      "    print(key,sol[key])"
     ],
     "language": "python",
     "metadata": {},
     "outputs": [
      {
       "output_type": "stream",
       "stream": "stdout",
       "text": [
        "('radio', 695500000.0)\n",
        "('masa', 1.9891e+30)\n"
       ]
      }
     ],
     "prompt_number": 1
    },
    {
     "cell_type": "heading",
     "level": 2,
     "metadata": {},
     "source": [
      "iPython"
     ]
    },
    {
     "cell_type": "code",
     "collapsed": false,
     "input": [
      "x = 2"
     ],
     "language": "python",
     "metadata": {},
     "outputs": []
    },
    {
     "cell_type": "code",
     "collapsed": false,
     "input": [
      "numerito = 10.1"
     ],
     "language": "python",
     "metadata": {},
     "outputs": [],
     "prompt_number": 15
    },
    {
     "cell_type": "code",
     "collapsed": false,
     "input": [
      "type"
     ],
     "language": "python",
     "metadata": {},
     "outputs": []
    },
    {
     "cell_type": "heading",
     "level": 2,
     "metadata": {},
     "source": [
      "List Comprehension"
     ]
    },
    {
     "cell_type": "code",
     "collapsed": false,
     "input": [
      "theMagicNum = int(raw_input(\"\u00bfCu\u00e1l es su n\u00famero m\u00e1gico? \"))\n",
      "theMagicNums = [i * theMagicNum for i in range(1,1000/theMagicNum + 1)]\n",
      "print \"Los m\u00faltiplos de \" + str(theMagicNum) + \" menores o iguales a 1000 son\"\n",
      "print theMagicNums\n",
      "print \", y su suma es \" + str(sum(theMagicNums)) + \".\""
     ],
     "language": "python",
     "metadata": {},
     "outputs": [
      {
       "name": "stdout",
       "output_type": "stream",
       "stream": "stdout",
       "text": [
        "\u00bfCu\u00e1l es su n\u00famero m\u00e1gico? 54\n"
       ]
      },
      {
       "output_type": "stream",
       "stream": "stdout",
       "text": [
        "Los m\u00faltiplos de 54 menores o iguales a 1000 son\n",
        "[54, 108, 162, 216, 270, 324, 378, 432, 486, 540, 594, 648, 702, 756, 810, 864, 918, 972]\n",
        ", y su suma es 9234.\n"
       ]
      }
     ],
     "prompt_number": 1
    },
    {
     "cell_type": "heading",
     "level": 2,
     "metadata": {},
     "source": [
      "More List Manipulation"
     ]
    },
    {
     "cell_type": "code",
     "collapsed": false,
     "input": [
      "# Append to a list\n",
      "lista=range(10)\n",
      "print lista\n",
      "lista.append(\"naranjas\")\n",
      "print lista"
     ],
     "language": "python",
     "metadata": {},
     "outputs": [
      {
       "output_type": "stream",
       "stream": "stdout",
       "text": [
        "[0, 1, 2, 3, 4, 5, 6, 7, 8, 9]\n",
        "[0, 1, 2, 3, 4, 5, 6, 7, 8, 9, 'naranjas']\n"
       ]
      }
     ],
     "prompt_number": 1
    },
    {
     "cell_type": "code",
     "collapsed": false,
     "input": [
      "# Eliminar el elemento de una lista usando su \u00edndice\n",
      "lista=[\"manzanas\",\"naranjas\",\"peras\",\"fresas\"]\n",
      "print lista\n",
      "del lista[1]\n",
      "print lista"
     ],
     "language": "python",
     "metadata": {},
     "outputs": [
      {
       "output_type": "stream",
       "stream": "stdout",
       "text": [
        "['manzanas', 'naranjas', 'peras', 'fresas']\n",
        "['manzanas', 'peras', 'fresas']\n"
       ]
      }
     ],
     "prompt_number": 3
    },
    {
     "cell_type": "code",
     "collapsed": false,
     "input": [
      "# Eliminar el elemento de una lista conocido su valor, solo se elimina la primer ocurrencia\n",
      "lista=[\"manzanas\",\"naranjas\",\"peras\",\"fresas\",\"manzanas\"]\n",
      "print lista\n",
      "lista.remove(\"manzanas\")\n",
      "print lista"
     ],
     "language": "python",
     "metadata": {},
     "outputs": [
      {
       "output_type": "stream",
       "stream": "stdout",
       "text": [
        "['manzanas', 'naranjas', 'peras', 'fresas', 'manzanas']\n",
        "['naranjas', 'peras', 'fresas', 'manzanas']\n"
       ]
      }
     ],
     "prompt_number": 4
    },
    {
     "cell_type": "heading",
     "level": 2,
     "metadata": {},
     "source": [
      "Generaci\u00f3n de n\u00fameros aleatorios"
     ]
    },
    {
     "cell_type": "code",
     "collapsed": false,
     "input": [
      "from random import *\n",
      "[randint(1,10) for i in range(10)]"
     ],
     "language": "python",
     "metadata": {},
     "outputs": [
      {
       "metadata": {},
       "output_type": "pyout",
       "prompt_number": 31,
       "text": [
        "[8, 10, 2, 6, 6, 8, 1, 1, 9, 6]"
       ]
      }
     ],
     "prompt_number": 31
    },
    {
     "cell_type": "heading",
     "level": 2,
     "metadata": {},
     "source": [
      "Funciones"
     ]
    },
    {
     "cell_type": "heading",
     "level": 3,
     "metadata": {},
     "source": [
      "Simplest example"
     ]
    },
    {
     "cell_type": "code",
     "collapsed": false,
     "input": [
      "def duplicator(x):\n",
      "    y = x*2\n",
      "    return y"
     ],
     "language": "python",
     "metadata": {},
     "outputs": [],
     "prompt_number": 4
    },
    {
     "cell_type": "code",
     "collapsed": false,
     "input": [
      "[ duplicator(i) for i in range(10)]"
     ],
     "language": "python",
     "metadata": {},
     "outputs": [
      {
       "metadata": {},
       "output_type": "pyout",
       "prompt_number": 5,
       "text": [
        "[0, 2, 4, 6, 8, 10, 12, 14, 16, 18]"
       ]
      }
     ],
     "prompt_number": 5
    },
    {
     "cell_type": "code",
     "collapsed": false,
     "input": [
      "# Si una funci\u00f3n no regresa nada expl\u00edcitamente, regresa None por defecto.\n",
      "def inutil(x):\n",
      "    if x == 1:\n",
      "        return x"
     ],
     "language": "python",
     "metadata": {},
     "outputs": [],
     "prompt_number": 10
    },
    {
     "cell_type": "code",
     "collapsed": false,
     "input": [
      "print inutil(0)"
     ],
     "language": "python",
     "metadata": {},
     "outputs": [
      {
       "output_type": "stream",
       "stream": "stdout",
       "text": [
        "None\n"
       ]
      }
     ],
     "prompt_number": 12
    },
    {
     "cell_type": "heading",
     "level": 3,
     "metadata": {},
     "source": [
      "Precedence"
     ]
    },
    {
     "cell_type": "code",
     "collapsed": false,
     "input": [
      "print sum"
     ],
     "language": "python",
     "metadata": {},
     "outputs": [
      {
       "output_type": "stream",
       "stream": "stdout",
       "text": [
        "<built-in function sum>\n"
       ]
      }
     ],
     "prompt_number": 7
    },
    {
     "cell_type": "code",
     "collapsed": false,
     "input": [
      "sum = 1\n",
      "print sum\n",
      "# Python found a global variable with name sum, and rested there."
     ],
     "language": "python",
     "metadata": {},
     "outputs": [
      {
       "output_type": "stream",
       "stream": "stdout",
       "text": [
        "1\n"
       ]
      }
     ],
     "prompt_number": 1
    },
    {
     "cell_type": "code",
     "collapsed": false,
     "input": [
      "sum = 1\n",
      "# This function creates a local variable sum and uses it in its execution.\n",
      "def funny(x):\n",
      "    sum = x + 1000\n",
      "    return sum\n",
      "print funny(2)\n",
      "# The value of the global variable is not affected by the execution of the function.\n",
      "print sum"
     ],
     "language": "python",
     "metadata": {},
     "outputs": [
      {
       "output_type": "stream",
       "stream": "stdout",
       "text": [
        "1002\n",
        "1\n"
       ]
      }
     ],
     "prompt_number": 9
    },
    {
     "cell_type": "code",
     "collapsed": false,
     "input": [
      "sum = 1\n",
      "# This function takes sum to be a global variable.\n",
      "def funny(x):\n",
      "    global sum\n",
      "    sum = x + 1000\n",
      "    return sum\n",
      "print funny(2)\n",
      "# The value of the global variable is affected by the execution of the function.\n",
      "print sum"
     ],
     "language": "python",
     "metadata": {},
     "outputs": [
      {
       "output_type": "stream",
       "stream": "stdout",
       "text": [
        "1002\n",
        "1002\n"
       ]
      }
     ],
     "prompt_number": 14
    },
    {
     "cell_type": "code",
     "collapsed": false,
     "input": [
      "# Imprimir objetos definidos\n",
      "%who"
     ],
     "language": "python",
     "metadata": {},
     "outputs": [
      {
       "output_type": "stream",
       "stream": "stdout",
       "text": [
        "ALLOW_THREADS\t BUFSIZE\t CLIP\t ComplexWarning\t DataSource\t ERR_CALL\t ERR_DEFAULT\t ERR_IGNORE\t ERR_LOG\t \n",
        "ERR_PRINT\t ERR_RAISE\t ERR_WARN\t FLOATING_POINT_SUPPORT\t FPE_DIVIDEBYZERO\t FPE_INVALID\t FPE_OVERFLOW\t FPE_UNDERFLOW\t False_\t \n",
        "Inf\t Infinity\t MAXDIMS\t MachAr\t ModuleDeprecationWarning\t NAN\t NINF\t NZERO\t NaN\t \n",
        "PINF\t PZERO\t PackageLoader\t RAISE\t RankWarning\t SHIFT_DIVIDEBYZERO\t SHIFT_INVALID\t SHIFT_OVERFLOW\t SHIFT_UNDERFLOW\t \n",
        "ScalarType\t True_\t UFUNC_BUFSIZE_DEFAULT\t UFUNC_PYVALS_NAME\t VisibleDeprecationWarning\t WRAP\t a\t absolute\t add\t \n",
        "add_docstring\t add_newdoc\t add_newdoc_ufunc\t add_newdocs\t alen\t all\t allclose\t alltrue\t alterdot\t \n",
        "amax\t amin\t angle\t any\t append\t apply_along_axis\t apply_over_axes\t arange\t arccos\t \n",
        "arccosh\t arcsin\t arcsinh\t arctan\t arctan2\t arctanh\t argmax\t argmin\t argpartition\t \n",
        "argsort\t argwhere\t around\t arr\t array\t array2string\t array_equal\t array_equiv\t array_repr\t \n",
        "array_split\t array_str\t asanyarray\t asarray\t asarray_chkfinite\t ascontiguousarray\t asfarray\t asfortranarray\t asmatrix\t \n",
        "asscalar\t atleast_1d\t atleast_2d\t atleast_3d\t average\t bartlett\t base_repr\t binary_repr\t bincount\t \n",
        "bitwise_and\t bitwise_not\t bitwise_or\t bitwise_xor\t blackman\t bmat\t bool8\t bool_\t broadcast\t \n",
        "broadcast_arrays\t busday_count\t busday_offset\t busdaycalendar\t byte\t byte_bounds\t bytes_\t c_\t can_cast\t \n",
        "cast\t cdouble\t ceil\t cfloat\t char\t character\t chararray\t choose\t clip\t \n",
        "clongdouble\t clongfloat\t column_stack\t common_type\t compare_chararrays\t complex128\t complex256\t complex64\t complex_\t \n",
        "complexfloating\t compress\t concatenate\t conj\t conjugate\t convolve\t copy\t copysign\t copyto\t \n",
        "corrcoef\t correlate\t cos\t cosh\t count_nonzero\t cov\t cross\t csingle\t ctypeslib\t \n",
        "cumprod\t cumproduct\t cumsum\t datetime64\t datetime_as_string\t datetime_data\t deg2rad\t degrees\t delete\t \n",
        "deprecate\t deprecate_with_doc\t diag\t diag_indices\t diag_indices_from\t diagflat\t diagonal\t diff\t digitize\t \n",
        "disp\t divide\t dot\t double\t dsplit\t dstack\t dtype\t e\t ediff1d\t \n",
        "einsum\t emath\t empty\t empty_like\t equal\t errstate\t euler_gamma\t exp\t exp2\t \n",
        "expand_dims\t expm1\t extract\t eye\t fabs\t fastCopyAndTranspose\t fft\t fill_diagonal\t find_common_type\t \n",
        "finfo\t fix\t flatiter\t flatnonzero\t flexible\t fliplr\t flipud\t float128\t float16\t \n",
        "float32\t float64\t float_\t floating\t floor\t floor_divide\t fmax\t fmin\t fmod\t \n",
        "format_parser\t frexp\t frombuffer\t fromfile\t fromfunction\t fromiter\t frompyfunc\t fromregex\t fromstring\t \n",
        "full\t full_like\t funny\t fv\t generic\t genfromtxt\t get_array_wrap\t get_include\t get_printoptions\t \n",
        "getbuffer\t getbufsize\t geterr\t geterrcall\t geterrobj\t gradient\t greater\t greater_equal\t half\t \n",
        "hamming\t hanning\t histogram\t histogram2d\t histogramdd\t hsplit\t hstack\t hypot\t i0\t \n",
        "identity\t iinfo\t imag\t in1d\t index_exp\t indices\t inexact\t inf\t info\t \n",
        "infty\t inner\t insert\t int0\t int16\t int32\t int64\t int8\t int_\t \n",
        "int_asbuffer\t intc\t integer\t interp\t intersect1d\t intp\t invert\t ipmt\t irr\t \n",
        "is_busday\t isclose\t iscomplex\t iscomplexobj\t isfinite\t isfortran\t isinf\t isnan\t isneginf\t \n",
        "isposinf\t isreal\t isrealobj\t isscalar\t issctype\t issubclass_\t issubdtype\t issubsctype\t iterable\t \n",
        "ix_\t kaiser\t kron\t ldexp\t left_shift\t less\t less_equal\t lexsort\t linalg\t \n",
        "linspace\t lista\t little_endian\t load\t loads\t loadtxt\t log\t log10\t log1p\t \n",
        "log2\t logaddexp\t logaddexp2\t logical_and\t logical_not\t logical_or\t logical_xor\t logspace\t longcomplex\t \n",
        "longdouble\t longfloat\t longlong\t lookfor\t ma\t mafromtxt\t manyints\t manyz\t mask_indices\t \n",
        "mat\t math\t matrix\t maximum\t maximum_sctype\t may_share_memory\t mean\t median\t memmap\t \n",
        "meshgrid\t mgrid\t min_scalar_type\t minimum\t mintypecode\t mirr\t mod\t modf\t msort\t \n",
        "multiply\t nan\t nan_to_num\t nanargmax\t nanargmin\t nanmax\t nanmean\t nanmedian\t nanmin\t \n",
        "nanpercentile\t nanstd\t nansum\t nanvar\t nbytes\t ndarray\t ndenumerate\t ndfromtxt\t ndim\t \n",
        "ndindex\t nditer\t negative\t nested_iters\t newaxis\t newbuffer\t nextafter\t nonzero\t not_equal\t \n",
        "nper\t npv\t number\t obj2sctype\t object0\t object_\t ogrid\t ones\t ones_like\t \n",
        "outer\t packbits\t pad\t partition\t percentile\t pi\t piecewise\t pkgload\t place\t \n",
        "pmt\t poly\t poly1d\t polyadd\t polyder\t polydiv\t polyfit\t polyint\t polymul\t \n",
        "polysub\t polyval\t power\t ppmt\t prod\t product\t promote_types\t ptp\t put\t \n",
        "putmask\t pv\t r\t r_\t rad2deg\t radians\t random\t rank\t rate\t \n",
        "ravel\t ravel_multi_index\t real\t real_if_close\t rec\t recarray\t recfromcsv\t recfromtxt\t reciprocal\t \n",
        "record\t remainder\t repeat\t require\t reshape\t resize\t restoredot\t result_type\t right_shift\t \n",
        "rint\t roll\t rollaxis\t roots\t rot90\t round_\t row_stack\t s_\t safe_eval\t \n",
        "save\t savetxt\t savez\t savez_compressed\t sctype2char\t sctypeDict\t sctypeNA\t sctypes\t searchsorted\t \n",
        "select\t set_numeric_ops\t set_printoptions\t set_string_function\t setbufsize\t setdiff1d\t seterr\t seterrcall\t seterrobj\t \n",
        "setxor1d\t shape\t short\t show_config\t sign\t signbit\t signedinteger\t sin\t sinc\t \n",
        "single\t singlecomplex\t sinh\t size\t sometrue\t sort\t sort_complex\t source\t spacing\t \n",
        "split\t sqrt\t square\t squeeze\t std\t str_\t string0\t string_\t subtract\t \n",
        "sum\t swapaxes\t take\t tan\t tanh\t tensordot\t tile\t timedelta64\t trace\t \n",
        "transpose\t trapz\t tri\t tril\t tril_indices\t tril_indices_from\t trim_zeros\t triu\t triu_indices\t \n",
        "triu_indices_from\t true_divide\t trunc\t typeDict\t typeNA\t typecodes\t typename\t ubyte\t ufunc\t \n",
        "uint\t uint0\t uint16\t uint32\t uint64\t uint8\t uintc\t uintp\t ulonglong\t \n",
        "unicode0\t unicode_\t union1d\t unique\t unpackbits\t unravel_index\t unsignedinteger\t unwrap\t ushort\t \n",
        "vander\t var\t vdot\t vectorize\t void\t void0\t vsplit\t vstack\t where\t \n",
        "who\t x\t zeros\t zeros_like\t \n"
       ]
      }
     ],
     "prompt_number": 15
    },
    {
     "cell_type": "code",
     "collapsed": false,
     "input": [
      "# Eliminar un objeto\n",
      "del sum"
     ],
     "language": "python",
     "metadata": {},
     "outputs": [],
     "prompt_number": 16
    },
    {
     "cell_type": "code",
     "collapsed": false,
     "input": [
      "print sum"
     ],
     "language": "python",
     "metadata": {},
     "outputs": [
      {
       "output_type": "stream",
       "stream": "stdout",
       "text": [
        "<built-in function sum>\n"
       ]
      }
     ],
     "prompt_number": 17
    },
    {
     "cell_type": "code",
     "collapsed": false,
     "input": [
      "%who"
     ],
     "language": "python",
     "metadata": {},
     "outputs": [
      {
       "output_type": "stream",
       "stream": "stdout",
       "text": [
        "funny\t key\t sol\t \n"
       ]
      }
     ],
     "prompt_number": 8
    },
    {
     "cell_type": "heading",
     "level": 3,
     "metadata": {},
     "source": [
      "A more complicated example"
     ]
    },
    {
     "cell_type": "code",
     "collapsed": false,
     "input": [
      "y = 0\n",
      "def nada(x):\n",
      "    global y\n",
      "    y = x + 1\n",
      "print nada(1)\n",
      "print y"
     ],
     "language": "python",
     "metadata": {},
     "outputs": [
      {
       "output_type": "stream",
       "stream": "stdout",
       "text": [
        "None\n",
        "2\n"
       ]
      }
     ],
     "prompt_number": 18
    },
    {
     "cell_type": "code",
     "collapsed": false,
     "input": [
      "from translate import Translator"
     ],
     "language": "python",
     "metadata": {},
     "outputs": [],
     "prompt_number": 19
    },
    {
     "cell_type": "code",
     "collapsed": false,
     "input": [
      "def easytrans(message, tolang):\n",
      "    translator = Translator(to_lang=tolang)\n",
      "    translation = translator.translate(message)\n",
      "    return translation"
     ],
     "language": "python",
     "metadata": {},
     "outputs": [],
     "prompt_number": 20
    },
    {
     "cell_type": "code",
     "collapsed": false,
     "input": [
      "for i in [\"Programming is fun.\", \"Programming is for geeks.\", \\\n",
      "          \"Programming makes many people rich.\"]:\n",
      "    for j in [\"zh\",\"it\",\"fr\",\"es\"]:\n",
      "        print easytrans(i,j)\n",
      "    print \"===============\""
     ],
     "language": "python",
     "metadata": {},
     "outputs": [
      {
       "output_type": "stream",
       "stream": "stdout",
       "text": [
        "\u7f16\u7a0b\u7684\u4e50\u8da3\u3002\n",
        "La programmazione \u00e8 divertente ."
       ]
      },
      {
       "output_type": "stream",
       "stream": "stdout",
       "text": [
        "\n",
        "La programmation est amusant ."
       ]
      },
      {
       "output_type": "stream",
       "stream": "stdout",
       "text": [
        "\n",
        "La programaci\u00f3n es divertido."
       ]
      },
      {
       "output_type": "stream",
       "stream": "stdout",
       "text": [
        "\n",
        "===============\n",
        "\u7f16\u7a0b\u662f\u602a\u624d\u3002"
       ]
      },
      {
       "output_type": "stream",
       "stream": "stdout",
       "text": [
        "\n",
        "La programmazione \u00e8 per i geek ."
       ]
      },
      {
       "output_type": "stream",
       "stream": "stdout",
       "text": [
        "\n",
        "La programmation est pour les geeks ."
       ]
      },
      {
       "output_type": "stream",
       "stream": "stdout",
       "text": [
        "\n",
        "La programaci\u00f3n es para geeks ."
       ]
      },
      {
       "output_type": "stream",
       "stream": "stdout",
       "text": [
        "\n",
        "===============\n",
        "\u7f16\u7a0b\u4f7f\u8bb8\u591a\u4eba\u81f4\u5bcc\u3002"
       ]
      },
      {
       "output_type": "stream",
       "stream": "stdout",
       "text": [
        "\n",
        "Programmazione rende molte persone ricche ."
       ]
      },
      {
       "output_type": "stream",
       "stream": "stdout",
       "text": [
        "\n",
        "Programmation rend beaucoup de gens riches."
       ]
      },
      {
       "output_type": "stream",
       "stream": "stdout",
       "text": [
        "\n",
        "Programaci\u00f3n hace que mucha gente rica ."
       ]
      },
      {
       "output_type": "stream",
       "stream": "stdout",
       "text": [
        "\n",
        "===============\n"
       ]
      }
     ],
     "prompt_number": 21
    },
    {
     "cell_type": "heading",
     "level": 3,
     "metadata": {},
     "source": [
      "Another example"
     ]
    },
    {
     "cell_type": "code",
     "collapsed": false,
     "input": [
      "# Functions don't owe to return nothin' to nobody\n",
      "def function(x):\n",
      "    x+1"
     ],
     "language": "python",
     "metadata": {},
     "outputs": [],
     "prompt_number": 17
    },
    {
     "cell_type": "code",
     "collapsed": false,
     "input": [
      "function(1)"
     ],
     "language": "python",
     "metadata": {},
     "outputs": [],
     "prompt_number": 18
    },
    {
     "cell_type": "code",
     "collapsed": false,
     "input": [
      "abs = 1"
     ],
     "language": "python",
     "metadata": {},
     "outputs": [],
     "prompt_number": 16
    },
    {
     "cell_type": "code",
     "collapsed": false,
     "input": [
      "print abs"
     ],
     "language": "python",
     "metadata": {},
     "outputs": [
      {
       "output_type": "stream",
       "stream": "stdout",
       "text": [
        "1\n"
       ]
      }
     ],
     "prompt_number": 19
    },
    {
     "cell_type": "heading",
     "level": 3,
     "metadata": {},
     "source": [
      "A function with variable number of arguments"
     ]
    },
    {
     "cell_type": "code",
     "collapsed": false,
     "input": [
      "def thetotal(*items):\n",
      "    tot=0\n",
      "    for i in items:\n",
      "        tot+=i\n",
      "    return tot\n",
      "print thetotal(1,2,10,-1)\n",
      "print thetotal(*[1,2,10,-1])"
     ],
     "language": "python",
     "metadata": {},
     "outputs": [
      {
       "output_type": "stream",
       "stream": "stdout",
       "text": [
        "12\n",
        "12\n"
       ]
      }
     ],
     "prompt_number": 51
    },
    {
     "cell_type": "heading",
     "level": 3,
     "metadata": {},
     "source": [
      "Recursive functions"
     ]
    },
    {
     "cell_type": "code",
     "collapsed": false,
     "input": [
      "# A function is recursive if it call itself. Recursion works\n",
      "# in Python and other languagues because of the run-time\n",
      "# stack"
     ],
     "language": "python",
     "metadata": {},
     "outputs": [],
     "prompt_number": 24
    },
    {
     "cell_type": "code",
     "collapsed": false,
     "input": [
      "def fibonnaci(n):\n",
      "    if n == 1 or n == 2:\n",
      "        return 1\n",
      "    return fibonnaci(n-1) + fibonnaci(n-2)\n",
      "fibonnaci(10)"
     ],
     "language": "python",
     "metadata": {},
     "outputs": [
      {
       "metadata": {},
       "output_type": "pyout",
       "prompt_number": 22,
       "text": [
        "55"
       ]
      }
     ],
     "prompt_number": 22
    },
    {
     "cell_type": "code",
     "collapsed": false,
     "input": [
      "def factorial(n):\n",
      "    if n == 0:\n",
      "        return 1\n",
      "    return n * factorial(n-1)\n",
      "print(factorial(3))"
     ],
     "language": "python",
     "metadata": {},
     "outputs": [
      {
       "output_type": "stream",
       "stream": "stdout",
       "text": [
        "6\n"
       ]
      }
     ],
     "prompt_number": 3
    },
    {
     "cell_type": "code",
     "collapsed": false,
     "input": [
      "def reverse(s):\n",
      "    # Base case: Always FIRST\n",
      "    if s == \"\":\n",
      "        return \"\"\n",
      "    #Recursive case\n",
      "    return reverse(s[1:]) + s[0]\n",
      "print reverse(\"juan david lizarazo\")"
     ],
     "language": "python",
     "metadata": {},
     "outputs": []
    },
    {
     "cell_type": "heading",
     "level": 2,
     "metadata": {},
     "source": [
      "Arrays"
     ]
    },
    {
     "cell_type": "code",
     "collapsed": false,
     "input": [
      "from numpy import *"
     ],
     "language": "python",
     "metadata": {},
     "outputs": [],
     "prompt_number": 5
    },
    {
     "cell_type": "code",
     "collapsed": false,
     "input": [
      "# To create an array from a list\n",
      "r = [1,2,3]\n",
      "a = array(r)\n",
      "print type(r)\n",
      "print r\n",
      "print type(a)\n",
      "print a"
     ],
     "language": "python",
     "metadata": {},
     "outputs": [
      {
       "output_type": "stream",
       "stream": "stdout",
       "text": [
        "<type 'list'>\n",
        "[1, 2, 3]\n",
        "<type 'numpy.ndarray'>\n",
        "[1 2 3]\n"
       ]
      }
     ],
     "prompt_number": 6
    },
    {
     "cell_type": "code",
     "collapsed": false,
     "input": [
      "# To create an array filled with zeroes (defaults to floats)\n",
      "manyz = zeros(10)\n",
      "print manyz\n",
      "manyints = zeros(10,int)\n",
      "print manyints"
     ],
     "language": "python",
     "metadata": {},
     "outputs": [
      {
       "output_type": "stream",
       "stream": "stdout",
       "text": [
        "[ 0.  0.  0.  0.  0.  0.  0.  0.  0.  0.]\n",
        "[0 0 0 0 0 0 0 0 0 0]\n"
       ]
      }
     ],
     "prompt_number": 7
    },
    {
     "cell_type": "code",
     "collapsed": false,
     "input": [
      "# Create an array to have n elements with uniformly distributed values\n",
      "# in an interval [p,q]\n",
      "a = linspace(1,10,10)\n",
      "print a"
     ],
     "language": "python",
     "metadata": {},
     "outputs": [
      {
       "output_type": "stream",
       "stream": "stdout",
       "text": [
        "[  1.   2.   3.   4.   5.   6.   7.   8.   9.  10.]\n"
       ]
      }
     ],
     "prompt_number": 10
    },
    {
     "cell_type": "code",
     "collapsed": false,
     "input": [
      "# Array elements are accesed by square brackets\n",
      "a = linspace(1,5,5)\n",
      "print a\n",
      "print a[1]\n",
      "print a[1:-1]"
     ],
     "language": "python",
     "metadata": {},
     "outputs": [
      {
       "output_type": "stream",
       "stream": "stdout",
       "text": [
        "[ 1.  2.  3.  4.  5.]\n",
        "2.0\n",
        "[ 2.  3.  4.]\n"
       ]
      }
     ],
     "prompt_number": 11
    },
    {
     "cell_type": "code",
     "collapsed": false,
     "input": [
      "# Los arrays son objetos iterables\n",
      "arr=zeros(10)\n",
      "for x in arr:\n",
      "    print x,"
     ],
     "language": "python",
     "metadata": {},
     "outputs": [
      {
       "output_type": "stream",
       "stream": "stdout",
       "text": [
        "0.0 0.0 0.0 0.0 0.0 0.0 0.0 0.0 0.0 0.0\n"
       ]
      }
     ],
     "prompt_number": 12
    },
    {
     "cell_type": "code",
     "collapsed": false,
     "input": [
      "# Arrays bidimensionales\n",
      "zeros((10,10))"
     ],
     "language": "python",
     "metadata": {},
     "outputs": [
      {
       "metadata": {},
       "output_type": "pyout",
       "prompt_number": 13,
       "text": [
        "array([[ 0.,  0.,  0.,  0.,  0.,  0.,  0.,  0.,  0.,  0.],\n",
        "       [ 0.,  0.,  0.,  0.,  0.,  0.,  0.,  0.,  0.,  0.],\n",
        "       [ 0.,  0.,  0.,  0.,  0.,  0.,  0.,  0.,  0.,  0.],\n",
        "       [ 0.,  0.,  0.,  0.,  0.,  0.,  0.,  0.,  0.,  0.],\n",
        "       [ 0.,  0.,  0.,  0.,  0.,  0.,  0.,  0.,  0.,  0.],\n",
        "       [ 0.,  0.,  0.,  0.,  0.,  0.,  0.,  0.,  0.,  0.],\n",
        "       [ 0.,  0.,  0.,  0.,  0.,  0.,  0.,  0.,  0.,  0.],\n",
        "       [ 0.,  0.,  0.,  0.,  0.,  0.,  0.,  0.,  0.,  0.],\n",
        "       [ 0.,  0.,  0.,  0.,  0.,  0.,  0.,  0.,  0.,  0.],\n",
        "       [ 0.,  0.,  0.,  0.,  0.,  0.,  0.,  0.,  0.,  0.]])"
       ]
      }
     ],
     "prompt_number": 13
    },
    {
     "cell_type": "code",
     "collapsed": false,
     "input": [
      "from random import randint"
     ],
     "language": "python",
     "metadata": {},
     "outputs": [],
     "prompt_number": 23
    },
    {
     "cell_type": "code",
     "collapsed": false,
     "input": [
      "randint(1,2)"
     ],
     "language": "python",
     "metadata": {},
     "outputs": [
      {
       "metadata": {},
       "output_type": "pyout",
       "prompt_number": 25,
       "text": [
        "2"
       ]
      }
     ],
     "prompt_number": 25
    }
   ],
   "metadata": {}
  }
 ]
}