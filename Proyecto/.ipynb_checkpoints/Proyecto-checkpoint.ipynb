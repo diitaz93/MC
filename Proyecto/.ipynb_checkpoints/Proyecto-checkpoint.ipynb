{
 "metadata": {
  "name": ""
 },
 "nbformat": 3,
 "nbformat_minor": 0,
 "worksheets": [
  {
   "cells": [
    {
     "cell_type": "markdown",
     "metadata": {},
     "source": [
      "#Proyecto Final M\u00e9todos Computacionales\n",
      "##Identificaci\u00f3n de arritmias cardiacas\n",
      "##Juan Sebasti\u00e1n D\u00edaz Boada  201127333"
     ]
    },
    {
     "cell_type": "markdown",
     "metadata": {},
     "source": [
      "#Introducci\u00f3n\n",
      "La se\u00f1ales fisiol\u00f3gicas, tales como el electrocardiograma (ECG), el electroencefalograma (EEG), electromiograf\u00eda (EMG) y elecrooculograma (EOG), entre otros, son de considerable importancia en el diagn\u00f3stico de patolog\u00edas. Muchas veces el especialista no puede diagnosticar al paciente por medio de los m\u00e9todos tradicionales, por lo cual debe recurrir a la ayuda de las herramientas tecnol\u00f3gicas. El an\u00e1lisis de se\u00f1ales fisiol\u00f3gicas es una de esas herramientas, con aplicaci\u00f3n de diagnosticos en distintas ramas de la medicina, incluyendo desordenes de sue\u00f1o, apnea obstructiva, sindrome del tunel carpal y, como en este caso, arritmias cardiacas.<BR>\n",
      "\n",
      "Este proyecto busca usar las herramientas aprendidas en clase de procesamiento de se\u00f1ales para\n",
      "analizar una se\u00f1al fisiol\u00f3gica, espec\u00edficamente una se\u00f1an de ECG. Usando los\n",
      "paquetes de `fft` de `scipy`, se busca tratar la se\u00f1al obtenida y analizar los cambios en la frecuencia\n",
      "a lo largo del tiempo para determinar arritmias.<BR>\n",
      "La se\u00f1al ser\u00e1 descargada de [Physiobank](http://www.physionet.org/physiobank/) en formato de texto, y tratada con expresiones regulares.<BR>\n",
      "+ **Objetivos Primario**<BR>\n",
      "Determinar los momentos en los que el paciente sufre *arritmias cardiacas*.<BR>\n",
      "+ **Objetivos Secundarios**<BR>\n",
      "   + Aprender aplicaciones medicas de los paquetes `fft` de `scipy`.\n",
      "   + Familiarizarse con conceptos como *frecuencia, tacograma, espectro, ruido* y *filtro*.\n",
      "   + Tener conceptos b\u00e1sicos del software WFDB disponble para linux y su instalaci\u00f3n.\n"
     ]
    },
    {
     "cell_type": "code",
     "collapsed": false,
     "input": [
      "%pylab inline\n",
      "from IPython.display import HTML"
     ],
     "language": "python",
     "metadata": {},
     "outputs": [
      {
       "output_type": "stream",
       "stream": "stdout",
       "text": [
        "Populating the interactive namespace from numpy and matplotlib\n"
       ]
      }
     ],
     "prompt_number": 2
    },
    {
     "cell_type": "code",
     "collapsed": false,
     "input": [
      "HTML('<iframe src=https://es.wikipedia.org/wiki/Trastornos_del_ritmo_card%C3%ADaco width=1000 height=400></iframe>')"
     ],
     "language": "python",
     "metadata": {},
     "outputs": [
      {
       "html": [
        "<iframe src=https://es.wikipedia.org/wiki/Trastornos_del_ritmo_card%C3%ADaco width=1000 height=400></iframe>"
       ],
       "metadata": {},
       "output_type": "pyout",
       "prompt_number": 5,
       "text": [
        "<IPython.core.display.HTML at 0x7f2b183cf310>"
       ]
      }
     ],
     "prompt_number": 5
    },
    {
     "cell_type": "markdown",
     "metadata": {},
     "source": [
      "#Metodolog\u00eda\n",
      "\n",
      "1. **Instalar software de Se\u00f1ales**<BR>\n",
      "Para obtener la se\u00f1al fisiol\u00f3gica en un archivo de texto, se debe instalar un software en linux desde la terminal. Para ello se deben seguir los pasos mostrados en la pagina de [WaveForm DataBase for GNU/Linux](http://www.physionet.org/physiotools/wfdb-linux-quick-start.shtml). Estos pasos son:<BR><BR>\n",
      "\n",
      "   + Instalar Prerrequisitos:\n",
      "```\n",
      "sudo apt-get install gcc libcurl4-openssl-dev libexpat1-dev\n",
      "```\n",
      "   + Descargar sl software:\n",
      "```\n",
      "tar xfvz wfdb.tar.gz\n",
      "```\n",
      "   + Instalar y verificar:\n",
      "```\n",
      "cd wfdb-10.m.n\n",
      "./configure\n",
      "make install\n",
      "make check\n",
      "```\n",
      "\n",
      "2. **Descargar la se\u00f1al de ECG**<BR>\n",
      "Se escoge descargar la se\u00f1al *MLII* de la grabaci\u00f3n 100 de la base de datos *MIT-BIH de Arritmia* (El nombre *MLII* indica la ubicaci\u00f3n de los electrodos al medir la se\u00f1al).<BR>\n",
      "Para esto se usa el comando `rdsamp` del software recien descargado. Se usa de la siguiente manera:<BR>\n",
      "```\n",
      "rdsamp -r mitdb/100 -c -H -P -s MLII>100.csv\n",
      "```\n",
      "-Pm para minutos<BR>\n",
      "Este comando exporta la se\u00f1al en milivoltios y segundos, usando una alta resoluci\u00f3n en formato *csv*."
     ]
    },
    {
     "cell_type": "code",
     "collapsed": false,
     "input": [
      "ECG=genfromtxt('100.csv',delimiter=\",\")\n",
      "t=ECG[:,0]\n",
      "V=ECG[:,1]"
     ],
     "language": "python",
     "metadata": {},
     "outputs": [],
     "prompt_number": 7
    },
    {
     "cell_type": "code",
     "collapsed": false,
     "input": [
      "plot(t,V)"
     ],
     "language": "python",
     "metadata": {},
     "outputs": [
      {
       "metadata": {},
       "output_type": "pyout",
       "prompt_number": 8,
       "text": [
        "[<matplotlib.lines.Line2D at 0x7f2b09e97290>]"
       ]
      },
      {
       "metadata": {},
       "output_type": "display_data",
       "png": "[encoded data removed]",
       "text": [
        "<matplotlib.figure.Figure at 0x7f2b183cf390>"
       ]
      }
     ],
     "prompt_number": 8
    },
    {
     "cell_type": "code",
     "collapsed": false,
     "input": [],
     "language": "python",
     "metadata": {},
     "outputs": []
    }
   ],
   "metadata": {}
  }
 ]
}