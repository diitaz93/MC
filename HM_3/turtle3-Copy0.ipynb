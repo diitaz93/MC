{
 "metadata": {
  "name": ""
 },
 "nbformat": 3,
 "nbformat_minor": 0,
 "worksheets": [
  {
   "cells": [
    {
     "cell_type": "code",
     "collapsed": false,
     "input": [
      "%pylab inline\n",
      "import turtle"
     ],
     "language": "python",
     "metadata": {},
     "outputs": [
      {
       "output_type": "stream",
       "stream": "stdout",
       "text": [
        "Populating the interactive namespace from numpy and matplotlib\n"
       ]
      }
     ],
     "prompt_number": 2
    },
    {
     "cell_type": "code",
     "collapsed": false,
     "input": [
      "long=500\n",
      "turtle.setup(800, 800)      \n",
      "wn = turtle.Screen() \n",
      "t1=turtle.Turtle()\n",
      "t2=turtle.Turtle()\n",
      "t3=turtle.Turtle()\n",
      "t1.speed(0)\n",
      "t2.speed(0)\n",
      "t3.speed(0)\n",
      "#posiciones iniciales\n",
      "t2.forward(long)\n",
      "t2.left(120)\n",
      "t3.forward(long)\n",
      "t3.left(120)\n",
      "t3.forward(long)\n",
      "t3.left(120)\n",
      "t2.clear()\n",
      "t3.clear()\n",
      "t1.hideturtle()\n",
      "t2.hideturtle()\n",
      "t3.hideturtle()\n",
      "size = 500\n",
      "\n",
      "def copo1(t1,t2,t3,n, long):\n",
      "    size = 50\n",
      "    if (n==0):\n",
      "        t1.forward(long)\n",
      "        t2.forward(long)\n",
      "        t3.forward(long)\n",
      "    else:\n",
      "            copo1(t1,t2,t3,n-1,long/3)\n",
      "            t1.left(-60)\n",
      "            t2.left(-60)\n",
      "            t3.left(-60)\n",
      "            size = size*3\n",
      "            copo1(t1,t2,t3,n-1,long/3)\n",
      "            t1.left(120)\n",
      "            t2.left(120)\n",
      "            t3.left(120)\n",
      "            size = size*3\n",
      "            copo1(t1,t2,t3,n-1,long/3)\n",
      "            t1.left(-60)\n",
      "            t2.left(-60)\n",
      "            t3.left(-60)\n",
      "            size = size*3\n",
      "            copo1(t1,t2,t3,n-1,long/3)\n",
      "     \n",
      "\n",
      "copo1(t1,t2,t3, 1, 500)\n",
      "#turtle.getcanvas().postscript(file = \"5.png\")\n",
      "wn.exitonclick()\n",
      "#convert -delay 10 -loop 0 *.png anima.gif"
     ],
     "language": "python",
     "metadata": {},
     "outputs": [],
     "prompt_number": "*"
    },
    {
     "cell_type": "code",
     "collapsed": false,
     "input": [
      "long=500\n",
      "turtle.setup(800, 800)      \n",
      "wn = turtle.Screen() \n",
      "wn.bgcolor(\"blue\")\n",
      "t1=turtle.Turtle()\n",
      "t2=turtle.Turtle()\n",
      "t3=turtle.Turtle()\n",
      "t1.speed(0)\n",
      "t2.speed(0)\n",
      "t3.speed(0)\n",
      "#posiciones iniciales\n",
      "t1.goto(-250,-200)\n",
      "t2.goto(250,-200)\n",
      "t2.left(120)\n",
      "t3.goto(250,-200)\n",
      "t3.left(120)\n",
      "t3.forward(500)\n",
      "t3.left(120)\n",
      "t1.clear()\n",
      "t2.clear()\n",
      "t3.clear()\n",
      "t1.hideturtle()\n",
      "t2.hideturtle()\n",
      "t3.hideturtle()\n",
      "size = 500\n",
      "def copo1(t1,t2,t3,n, long):\n",
      "    size = 50\n",
      "    if (n==0):\n",
      "        t1.forward(long)\n",
      "        t2.forward(long)\n",
      "        t3.forward(long)\n",
      "    else:\n",
      "            copo1(t1,t2,t3,n-1,long/3)\n",
      "            t1.left(-60)\n",
      "            t2.left(-60)\n",
      "            t3.left(-60)\n",
      "            size = size*3\n",
      "            copo1(t1,t2,t3,n-1,long/3)\n",
      "            t1.left(120)\n",
      "            t2.left(120)\n",
      "            t3.left(120)\n",
      "            size = size*3\n",
      "            copo1(t1,t2,t3,n-1,long/3)\n",
      "            t1.left(-60)\n",
      "            t2.left(-60)\n",
      "            t3.left(-60)\n",
      "            size = size*3\n",
      "            copo1(t1,t2,t3,n-1,long/3)\n",
      "     \n",
      "\n",
      "figure()\n",
      "copo1(t1,t2,t3,0, 500)\n",
      "turtle.getcanvas().postscript(file = \"0.png\")\n",
      "wn.exitonclick()\n",
      "show()\n",
      "#convert -delay 1 -loop 0 *.png anima.gif"
     ],
     "language": "python",
     "metadata": {},
     "outputs": [
      {
       "metadata": {},
       "output_type": "display_data",
       "text": [
        "<matplotlib.figure.Figure at 0x7f42121a0e10>"
       ]
      }
     ],
     "prompt_number": 16
    },
    {
     "cell_type": "code",
     "collapsed": false,
     "input": [],
     "language": "python",
     "metadata": {},
     "outputs": []
    }
   ],
   "metadata": {}
  }
 ]
}