{
 "metadata": {
  "name": ""
 },
 "nbformat": 3,
 "nbformat_minor": 0,
 "worksheets": [
  {
   "cells": [
    {
     "cell_type": "markdown",
     "metadata": {},
     "source": [
      "#Experimento 1 - Distribuci\u00f3n de velocidades de Maxwell - Boltzmann 2D"
     ]
    },
    {
     "cell_type": "code",
     "collapsed": false,
     "input": [
      "%pylab inline\n",
      "from scipy.optimize import curve_fit\n",
      "import numpy as np"
     ],
     "language": "python",
     "metadata": {},
     "outputs": [
      {
       "output_type": "stream",
       "stream": "stdout",
       "text": [
        "Populating the interactive namespace from numpy and matplotlib\n"
       ]
      }
     ],
     "prompt_number": 1
    },
    {
     "cell_type": "markdown",
     "metadata": {},
     "source": [
      "#Introducci\u00f3n\n",
      "Del libro The Art of Molecular Dynamics Simulation de Rapaport, se us\u00f3 un c\u00f3digo que simula un gas de discos suaves que interact\u00faan de acuerdo al potencial de Lennard Jones truncado. El potencial de *Lennard Jones* es un modelo matem\u00e1tico sencillo para representar el comportamiento de un par de \u00e1tomos o mol\u00e9culas neutras. Este comportamiento esta descrito por dos fuerzas distintas en el l\u00edmite de una gran separaci\u00f3n: una fuerza atractiva act\u00faa a grandes distancias\n",
      "\n"
     ]
    },
    {
     "cell_type": "code",
     "collapsed": false,
     "input": [
      "#Se importan los datos de un archivo .csv.\n",
      "#Los datos en su orden son: Posici\u00f3n en x, Posici\u00f3n en y, rapidez en x y rapidez en y.\n",
      "data=genfromtxt(\"/home/juan/Documents/MC/Experimentos/Exp1/MB/Raleigh.csv\",delimiter=\",\")\n",
      "px=data[:,0]\n",
      "py=data[:,1]\n",
      "vx=data[:,2]\n",
      "vy=data[:,3]\n"
     ],
     "language": "python",
     "metadata": {},
     "outputs": [],
     "prompt_number": 2
    },
    {
     "cell_type": "code",
     "collapsed": false,
     "input": [
      "#Se escogen los datos en equilibrio. Para esto se usa la ultima ventana de datos, los ultimos 1600 datos.\n",
      "xf=px[400000:401600]\n",
      "yf=py[400000:401600]\n",
      "vxf=vx[400000:401600]\n",
      "vyf=vy[400000:401600]\n",
      "#Se obtiene la rapidez, obtenida con la norma del vector velocidad.\n",
      "rapf=sqrt(vxf**2+vyf**2)\n"
     ],
     "language": "python",
     "metadata": {},
     "outputs": [],
     "prompt_number": 3
    },
    {
     "cell_type": "code",
     "collapsed": false,
     "input": [
      "#Histograma de rapidez en equilibrio\n",
      "figure(figsize=(12,7))\n",
      "\n",
      "elh=hist(rapf, bins=50, normed=True)\n",
      "show()"
     ],
     "language": "python",
     "metadata": {},
     "outputs": [
      {
       "metadata": {},
       "output_type": "display_data",
       "png": "[encoded data removed]",
       "text": [
        "<matplotlib.figure.Figure at 0x7f9ff3754150>"
       ]
      }
     ],
     "prompt_number": 4
    },
    {
     "cell_type": "code",
     "collapsed": false,
     "input": [
      "#Los arreglos del histograma se vuelven del mismo tama\u00f1o eliminando el ultimo intervalo\n",
      "print len(elh[0])\n",
      "print len(elh[1])\n",
      "y=elh[0]\n",
      "x=elh[1][0:50]\n",
      "plot(x,y)"
     ],
     "language": "python",
     "metadata": {},
     "outputs": [
      {
       "output_type": "stream",
       "stream": "stdout",
       "text": [
        "50\n",
        "51\n"
       ]
      },
      {
       "metadata": {},
       "output_type": "pyout",
       "prompt_number": 5,
       "text": [
        "[<matplotlib.lines.Line2D at 0x7f9fedcd23d0>]"
       ]
      },
      {
       "metadata": {},
       "output_type": "display_data",
       "png": "[encoded data removed]",
       "text": [
        "<matplotlib.figure.Figure at 0x7f9fe6e7aa10>"
       ]
      }
     ],
     "prompt_number": 5
    },
    {
     "cell_type": "code",
     "collapsed": false,
     "input": [
      "#Se define la funci\u00f3n de densidad de probabilidad de Rayleigh\n",
      "def rayleigh(x,s):\n",
      "    return x/s**2*exp(-x**2/(2*s**2))"
     ],
     "language": "python",
     "metadata": {},
     "outputs": [],
     "prompt_number": 6
    },
    {
     "cell_type": "code",
     "collapsed": false,
     "input": [
      "#Se usa la funci\u00f3n curve_fit para determinar el par\u00e1metro de escala\n",
      "R=curve_fit(rayleigh,x,y)"
     ],
     "language": "python",
     "metadata": {},
     "outputs": [],
     "prompt_number": 7
    },
    {
     "cell_type": "code",
     "collapsed": false,
     "input": [
      "#Se usa el paramero de escala encontrado anteriormente para graficar la distribuci\u00f3n de probabilidad sobre el histograma\n",
      "d=linspace(0,3,50)\n",
      "figure(figsize=(12,7))\n",
      "s=R[0]\n",
      "plot(d,rayleigh(x,s))\n",
      "hist(rapf, bins=50, normed=True)\n",
      "show()"
     ],
     "language": "python",
     "metadata": {},
     "outputs": [
      {
       "metadata": {},
       "output_type": "display_data",
       "png": "[encoded data removed]",
       "text": [
        "<matplotlib.figure.Figure at 0x7f9fedceb350>"
       ]
      }
     ],
     "prompt_number": 8
    },
    {
     "cell_type": "code",
     "collapsed": false,
     "input": [
      "#Se busca obtener un arreglo con las posiciones de una sola part\u00edcula para cada ventana de tiempo\n",
      "#Primero se aislan los datos de la part\u00edcula 1\n",
      "x1=zeros(len(px)/1600)\n",
      "y1=x1"
     ],
     "language": "python",
     "metadata": {},
     "outputs": [],
     "prompt_number": 9
    },
    {
     "cell_type": "code",
     "collapsed": false,
     "input": [
      "#Para la posici\u00f3n en x\n",
      "for i in range(len(px)/1600-1):\n",
      "   x1[i]=px[1600*i]\n",
      "\n",
      "print x1\n",
      "\n",
      "x1max=amax(x1)\n",
      "x1min=amin(x1)\n",
      "print x1max\n",
      "print x1min\n",
      "for i in range(len(x1)):\n",
      "    if x1[i]<0:\n",
      "        x1[i]=x1[i]-x1min\n",
      "    else:\n",
      "        x1[i]=x1[i]-x1max      \n",
      "\n",
      "print x1"
     ],
     "language": "python",
     "metadata": {},
     "outputs": [
      {
       "output_type": "stream",
       "stream": "stdout",
       "text": [
        "[-35.601966 -35.607134 -35.612301 -35.617468 -35.622636 -35.627803\n",
        " -35.63297  -35.638138 -35.643305 -35.648472 -35.65364  -35.658807\n",
        " -35.663975 -35.669142 -35.674309 -35.679477 -35.684644 -35.689811\n",
        " -35.694979 -35.700146 -35.705313 -35.710481 -35.715648 -35.720815\n",
        " -35.725983 -35.73115  -35.736317 -35.741485 -35.746652 -35.75182\n",
        " -35.756987 -35.762154 -35.767322 -35.772489 -35.777656 -35.782824\n",
        " -35.787991 -35.793158 -35.798326 -35.803493 -35.80866  -35.813828\n",
        " -35.818995 -35.824163 -35.82933  -35.834497 -35.839665 -35.844832\n",
        " -35.849999 -35.855167 -35.860334 -35.865501 -35.870669 -35.875836\n",
        " -35.881003 -35.886171 -35.891338 -35.896506 -35.901673 -35.90684\n",
        " -35.912008 -35.917175 -35.922342 -35.92751  -35.932677 -35.937844\n",
        " -35.943012 -35.948179 -35.953346 -35.958514 -35.963681 -35.968848\n",
        " -35.974016 -35.979183 -35.984351 -35.989518 -35.994685 -35.999853\n",
        " -36.00502  -36.010187 -36.015355 -36.020522 -36.025689 -36.030857\n",
        " -36.036024 -36.041191 -36.046359 -36.051526 -36.056694 -36.061861\n",
        " -36.067028 -36.072196 -36.077363 -36.08253  -36.087698 -36.092865\n",
        " -36.098032 -36.1032   -36.108367 -36.113534 -36.118702 -36.123873\n",
        " -36.129053 -36.134251 -36.139476 -36.144741 -36.150058 -36.155438\n",
        " -36.160893 -36.16643  -36.172053 -36.177761 -36.183549 -36.189407\n",
        " -36.195321 -36.201275 -36.207252 -36.213232 -36.219213 -36.225194\n",
        " -36.231174 -36.237155 -36.243135 -36.249116 -36.255097 -36.261077\n",
        " -36.267058 -36.273038 -36.279019 -36.285    -36.29098  -36.296961\n",
        " -36.302942 -36.308922 -36.314903 -36.320883 -36.326864 -36.332845\n",
        " -36.338825 -36.344806 -36.350786 -36.356767 -36.362748 -36.368728\n",
        " -36.374709 -36.380689 -36.38667  -36.392651 -36.398631 -36.404612\n",
        " -36.410592 -36.416573 -36.422554 -36.428547 -36.434594 -36.44074\n",
        " -36.447034 -36.453527 -36.460266 -36.467295 -36.474647 -36.482342\n",
        " -36.490388 -36.498773 -36.507474  36.513218  36.504     36.494602\n",
        "  36.485081  36.4755    36.465915  36.456378  36.446922  36.437553\n",
        "  36.428246  36.418951  36.409606  36.400146  36.390501  36.380598\n",
        "  36.37037   36.359756  36.348719  36.337246  36.325357  36.313098\n",
        "  36.300533  36.287729  36.274752  36.261659  36.248496  36.235296\n",
        "  36.222086  36.208876  36.195666  36.182456  36.169246  36.156036\n",
        "  36.142826  36.129616  36.116406  36.103196  36.089986  36.076776\n",
        "  36.063566  36.050356  36.037146  36.023936  36.010726  35.997515\n",
        "  35.984305  35.971095  35.957885  35.944675  35.931465  35.918255\n",
        "  35.905045  35.891835  35.878625  35.865415  35.852205  35.838995\n",
        "  35.825785  35.812575  35.799365  35.786155  35.772945  35.759735\n",
        "  35.746525  35.733314  35.720104  35.706894  35.693684  35.680474\n",
        "  35.667264  35.654054  35.640844  35.627634  35.614424  35.601214\n",
        "  35.588004  35.574794  35.561584  35.548374  35.535164  35.521954\n",
        "  35.508744  35.495534  35.482323  35.469113   0.      ]\n",
        "36.513218\n",
        "-36.507474\n",
        "[  9.05508000e-01   9.00340000e-01   8.95173000e-01   8.90006000e-01\n",
        "   8.84838000e-01   8.79671000e-01   8.74504000e-01   8.69336000e-01\n",
        "   8.64169000e-01   8.59002000e-01   8.53834000e-01   8.48667000e-01\n",
        "   8.43499000e-01   8.38332000e-01   8.33165000e-01   8.27997000e-01\n",
        "   8.22830000e-01   8.17663000e-01   8.12495000e-01   8.07328000e-01\n",
        "   8.02161000e-01   7.96993000e-01   7.91826000e-01   7.86659000e-01\n",
        "   7.81491000e-01   7.76324000e-01   7.71157000e-01   7.65989000e-01\n",
        "   7.60822000e-01   7.55654000e-01   7.50487000e-01   7.45320000e-01\n",
        "   7.40152000e-01   7.34985000e-01   7.29818000e-01   7.24650000e-01\n",
        "   7.19483000e-01   7.14316000e-01   7.09148000e-01   7.03981000e-01\n",
        "   6.98814000e-01   6.93646000e-01   6.88479000e-01   6.83311000e-01\n",
        "   6.78144000e-01   6.72977000e-01   6.67809000e-01   6.62642000e-01\n",
        "   6.57475000e-01   6.52307000e-01   6.47140000e-01   6.41973000e-01\n",
        "   6.36805000e-01   6.31638000e-01   6.26471000e-01   6.21303000e-01\n",
        "   6.16136000e-01   6.10968000e-01   6.05801000e-01   6.00634000e-01\n",
        "   5.95466000e-01   5.90299000e-01   5.85132000e-01   5.79964000e-01\n",
        "   5.74797000e-01   5.69630000e-01   5.64462000e-01   5.59295000e-01\n",
        "   5.54128000e-01   5.48960000e-01   5.43793000e-01   5.38626000e-01\n",
        "   5.33458000e-01   5.28291000e-01   5.23123000e-01   5.17956000e-01\n",
        "   5.12789000e-01   5.07621000e-01   5.02454000e-01   4.97287000e-01\n",
        "   4.92119000e-01   4.86952000e-01   4.81785000e-01   4.76617000e-01\n",
        "   4.71450000e-01   4.66283000e-01   4.61115000e-01   4.55948000e-01\n",
        "   4.50780000e-01   4.45613000e-01   4.40446000e-01   4.35278000e-01\n",
        "   4.30111000e-01   4.24944000e-01   4.19776000e-01   4.14609000e-01\n",
        "   4.09442000e-01   4.04274000e-01   3.99107000e-01   3.93940000e-01\n",
        "   3.88772000e-01   3.83601000e-01   3.78421000e-01   3.73223000e-01\n",
        "   3.67998000e-01   3.62733000e-01   3.57416000e-01   3.52036000e-01\n",
        "   3.46581000e-01   3.41044000e-01   3.35421000e-01   3.29713000e-01\n",
        "   3.23925000e-01   3.18067000e-01   3.12153000e-01   3.06199000e-01\n",
        "   3.00222000e-01   2.94242000e-01   2.88261000e-01   2.82280000e-01\n",
        "   2.76300000e-01   2.70319000e-01   2.64339000e-01   2.58358000e-01\n",
        "   2.52377000e-01   2.46397000e-01   2.40416000e-01   2.34436000e-01\n",
        "   2.28455000e-01   2.22474000e-01   2.16494000e-01   2.10513000e-01\n",
        "   2.04532000e-01   1.98552000e-01   1.92571000e-01   1.86591000e-01\n",
        "   1.80610000e-01   1.74629000e-01   1.68649000e-01   1.62668000e-01\n",
        "   1.56688000e-01   1.50707000e-01   1.44726000e-01   1.38746000e-01\n",
        "   1.32765000e-01   1.26785000e-01   1.20804000e-01   1.14823000e-01\n",
        "   1.08843000e-01   1.02862000e-01   9.68820000e-02   9.09010000e-02\n",
        "   8.49200000e-02   7.89270000e-02   7.28800000e-02   6.67340000e-02\n",
        "   6.04400000e-02   5.39470000e-02   4.72080000e-02   4.01790000e-02\n",
        "   3.28270000e-02   2.51320000e-02   1.70860000e-02   8.70100000e-03\n",
        "   0.00000000e+00   0.00000000e+00  -9.21800000e-03  -1.86160000e-02\n",
        "  -2.81370000e-02  -3.77180000e-02  -4.73030000e-02  -5.68400000e-02\n",
        "  -6.62960000e-02  -7.56650000e-02  -8.49720000e-02  -9.42670000e-02\n",
        "  -1.03612000e-01  -1.13072000e-01  -1.22717000e-01  -1.32620000e-01\n",
        "  -1.42848000e-01  -1.53462000e-01  -1.64499000e-01  -1.75972000e-01\n",
        "  -1.87861000e-01  -2.00120000e-01  -2.12685000e-01  -2.25489000e-01\n",
        "  -2.38466000e-01  -2.51559000e-01  -2.64722000e-01  -2.77922000e-01\n",
        "  -2.91132000e-01  -3.04342000e-01  -3.17552000e-01  -3.30762000e-01\n",
        "  -3.43972000e-01  -3.57182000e-01  -3.70392000e-01  -3.83602000e-01\n",
        "  -3.96812000e-01  -4.10022000e-01  -4.23232000e-01  -4.36442000e-01\n",
        "  -4.49652000e-01  -4.62862000e-01  -4.76072000e-01  -4.89282000e-01\n",
        "  -5.02492000e-01  -5.15703000e-01  -5.28913000e-01  -5.42123000e-01\n",
        "  -5.55333000e-01  -5.68543000e-01  -5.81753000e-01  -5.94963000e-01\n",
        "  -6.08173000e-01  -6.21383000e-01  -6.34593000e-01  -6.47803000e-01\n",
        "  -6.61013000e-01  -6.74223000e-01  -6.87433000e-01  -7.00643000e-01\n",
        "  -7.13853000e-01  -7.27063000e-01  -7.40273000e-01  -7.53483000e-01\n",
        "  -7.66693000e-01  -7.79904000e-01  -7.93114000e-01  -8.06324000e-01\n",
        "  -8.19534000e-01  -8.32744000e-01  -8.45954000e-01  -8.59164000e-01\n",
        "  -8.72374000e-01  -8.85584000e-01  -8.98794000e-01  -9.12004000e-01\n",
        "  -9.25214000e-01  -9.38424000e-01  -9.51634000e-01  -9.64844000e-01\n",
        "  -9.78054000e-01  -9.91264000e-01  -1.00447400e+00  -1.01768400e+00\n",
        "  -1.03089500e+00  -1.04410500e+00  -3.65132180e+01]\n"
       ]
      }
     ],
     "prompt_number": 10
    },
    {
     "cell_type": "code",
     "collapsed": false,
     "input": [
      "for i in range(len(py)/1600-1):\n",
      "   y1[i]=py[1600*i]\n",
      "print y1\n",
      "y1max=amax(y1)\n",
      "y1min=amin(y1)\n",
      "print y1max\n",
      "print y1min\n",
      "for i in range(len(y1)):\n",
      "    if y1[i]<0:\n",
      "        y1[i]=y1[i]-y1min\n",
      "    else:\n",
      "        y1[i]=y1[i]-y1max\n",
      "print y1"
     ],
     "language": "python",
     "metadata": {},
     "outputs": [
      {
       "output_type": "stream",
       "stream": "stdout",
       "text": [
        "[-35.601966 -35.61516  -35.628354 -35.641547 -35.654741 -35.667935\n",
        " -35.681128 -35.694322 -35.707516 -35.720709 -35.733903 -35.747097\n",
        " -35.76029  -35.773484 -35.786677 -35.799871 -35.813065 -35.826258\n",
        " -35.839452 -35.852646 -35.865839 -35.879033 -35.892227 -35.90542\n",
        " -35.918614 -35.931808 -35.945001 -35.958195 -35.971389 -35.984582\n",
        " -35.997776 -36.01097  -36.024163 -36.037357 -36.050551 -36.063744\n",
        " -36.076938 -36.090132 -36.103325 -36.116519 -36.129713 -36.142906 -36.1561\n",
        " -36.169294 -36.182487 -36.195681 -36.208875 -36.222068 -36.235262\n",
        " -36.248456 -36.261649 -36.274843 -36.288037 -36.30123  -36.314424\n",
        " -36.327618 -36.340811 -36.354005 -36.367199 -36.380392 -36.393586\n",
        " -36.40678  -36.419973 -36.433167 -36.446361 -36.459554 -36.472748\n",
        " -36.485942 -36.499135 -36.512329  36.504152  36.490958  36.477764\n",
        "  36.464571  36.451377  36.438183  36.42499   36.411796  36.398603\n",
        "  36.385409  36.372215  36.359022  36.345828  36.332634  36.319441\n",
        "  36.306247  36.293053  36.27986   36.266666  36.253472  36.240279\n",
        "  36.227085  36.213891  36.200698  36.187504  36.17431   36.161117\n",
        "  36.147923  36.134729  36.121536  36.108347  36.0952    36.082146\n",
        "  36.069236  36.056518  36.044036  36.031827  36.019916  36.008316\n",
        "  35.997029  35.986039  35.975321  35.964839  35.954549  35.944405\n",
        "  35.934358  35.924361  35.914372  35.904384  35.894396  35.884408\n",
        "  35.87442   35.864432  35.854443  35.844455  35.834467  35.824479\n",
        "  35.814491  35.804503  35.794514  35.784526  35.774538  35.76455\n",
        "  35.754562  35.744573  35.734585  35.724597  35.714609  35.704621\n",
        "  35.694633  35.684644  35.674656  35.664668  35.65468   35.644692\n",
        "  35.634704  35.624715  35.614727  35.604739  35.594751  35.584763\n",
        "  35.574775  35.564786  35.554781  35.544705  35.534493  35.524071\n",
        "  35.513358  35.502269  35.490723  35.478649  35.465989  35.452711\n",
        "  35.438807  35.424297  35.409227  35.393689  35.377968  35.362512\n",
        "  35.347968  35.335208  35.325286  35.319221  35.31763   35.320427\n",
        "  35.326851  35.335788  35.346116  35.356876  35.367304  35.376806\n",
        "  35.384945  35.391504  35.396383  35.399602  35.40129   35.401658\n",
        "  35.400964  35.399469  35.397417  35.395012  35.392423  35.389778\n",
        "  35.387134  35.384489  35.381845  35.3792    35.376556  35.373911\n",
        "  35.371266  35.368622  35.365977  35.363333  35.360688  35.358044\n",
        "  35.355399  35.352754  35.35011   35.347465  35.344821  35.342176\n",
        "  35.339532  35.336887  35.334242  35.331598  35.328953  35.326309\n",
        "  35.323664  35.32102   35.318375  35.31573   35.313086  35.310441\n",
        "  35.307797  35.305152  35.302508  35.299863  35.297218  35.294574\n",
        "  35.291929  35.289285  35.28664   35.283996  35.281351  35.278706\n",
        "  35.276062  35.273417  35.270773  35.268128  35.265484  35.262839\n",
        "  35.260194  35.25755   35.254905  35.252261  35.249616  35.246972\n",
        "  35.244327  35.241682  35.239038 -36.513218]\n",
        "36.504152\n",
        "-36.513218\n",
        "[  9.11252000e-01   8.98058000e-01   8.84864000e-01   8.71671000e-01\n",
        "   8.58477000e-01   8.45283000e-01   8.32090000e-01   8.18896000e-01\n",
        "   8.05702000e-01   7.92509000e-01   7.79315000e-01   7.66121000e-01\n",
        "   7.52928000e-01   7.39734000e-01   7.26541000e-01   7.13347000e-01\n",
        "   7.00153000e-01   6.86960000e-01   6.73766000e-01   6.60572000e-01\n",
        "   6.47379000e-01   6.34185000e-01   6.20991000e-01   6.07798000e-01\n",
        "   5.94604000e-01   5.81410000e-01   5.68217000e-01   5.55023000e-01\n",
        "   5.41829000e-01   5.28636000e-01   5.15442000e-01   5.02248000e-01\n",
        "   4.89055000e-01   4.75861000e-01   4.62667000e-01   4.49474000e-01\n",
        "   4.36280000e-01   4.23086000e-01   4.09893000e-01   3.96699000e-01\n",
        "   3.83505000e-01   3.70312000e-01   3.57118000e-01   3.43924000e-01\n",
        "   3.30731000e-01   3.17537000e-01   3.04343000e-01   2.91150000e-01\n",
        "   2.77956000e-01   2.64762000e-01   2.51569000e-01   2.38375000e-01\n",
        "   2.25181000e-01   2.11988000e-01   1.98794000e-01   1.85600000e-01\n",
        "   1.72407000e-01   1.59213000e-01   1.46019000e-01   1.32826000e-01\n",
        "   1.19632000e-01   1.06438000e-01   9.32450000e-02   8.00510000e-02\n",
        "   6.68570000e-02   5.36640000e-02   4.04700000e-02   2.72760000e-02\n",
        "   1.40830000e-02   8.89000000e-04   0.00000000e+00  -1.31940000e-02\n",
        "  -2.63880000e-02  -3.95810000e-02  -5.27750000e-02  -6.59690000e-02\n",
        "  -7.91620000e-02  -9.23560000e-02  -1.05549000e-01  -1.18743000e-01\n",
        "  -1.31937000e-01  -1.45130000e-01  -1.58324000e-01  -1.71518000e-01\n",
        "  -1.84711000e-01  -1.97905000e-01  -2.11099000e-01  -2.24292000e-01\n",
        "  -2.37486000e-01  -2.50680000e-01  -2.63873000e-01  -2.77067000e-01\n",
        "  -2.90261000e-01  -3.03454000e-01  -3.16648000e-01  -3.29842000e-01\n",
        "  -3.43035000e-01  -3.56229000e-01  -3.69423000e-01  -3.82616000e-01\n",
        "  -3.95805000e-01  -4.08952000e-01  -4.22006000e-01  -4.34916000e-01\n",
        "  -4.47634000e-01  -4.60116000e-01  -4.72325000e-01  -4.84236000e-01\n",
        "  -4.95836000e-01  -5.07123000e-01  -5.18113000e-01  -5.28831000e-01\n",
        "  -5.39313000e-01  -5.49603000e-01  -5.59747000e-01  -5.69794000e-01\n",
        "  -5.79791000e-01  -5.89780000e-01  -5.99768000e-01  -6.09756000e-01\n",
        "  -6.19744000e-01  -6.29732000e-01  -6.39720000e-01  -6.49709000e-01\n",
        "  -6.59697000e-01  -6.69685000e-01  -6.79673000e-01  -6.89661000e-01\n",
        "  -6.99649000e-01  -7.09638000e-01  -7.19626000e-01  -7.29614000e-01\n",
        "  -7.39602000e-01  -7.49590000e-01  -7.59579000e-01  -7.69567000e-01\n",
        "  -7.79555000e-01  -7.89543000e-01  -7.99531000e-01  -8.09519000e-01\n",
        "  -8.19508000e-01  -8.29496000e-01  -8.39484000e-01  -8.49472000e-01\n",
        "  -8.59460000e-01  -8.69448000e-01  -8.79437000e-01  -8.89425000e-01\n",
        "  -8.99413000e-01  -9.09401000e-01  -9.19389000e-01  -9.29377000e-01\n",
        "  -9.39366000e-01  -9.49371000e-01  -9.59447000e-01  -9.69659000e-01\n",
        "  -9.80081000e-01  -9.90794000e-01  -1.00188300e+00  -1.01342900e+00\n",
        "  -1.02550300e+00  -1.03816300e+00  -1.05144100e+00  -1.06534500e+00\n",
        "  -1.07985500e+00  -1.09492500e+00  -1.11046300e+00  -1.12618400e+00\n",
        "  -1.14164000e+00  -1.15618400e+00  -1.16894400e+00  -1.17886600e+00\n",
        "  -1.18493100e+00  -1.18652200e+00  -1.18372500e+00  -1.17730100e+00\n",
        "  -1.16836400e+00  -1.15803600e+00  -1.14727600e+00  -1.13684800e+00\n",
        "  -1.12734600e+00  -1.11920700e+00  -1.11264800e+00  -1.10776900e+00\n",
        "  -1.10455000e+00  -1.10286200e+00  -1.10249400e+00  -1.10318800e+00\n",
        "  -1.10468300e+00  -1.10673500e+00  -1.10914000e+00  -1.11172900e+00\n",
        "  -1.11437400e+00  -1.11701800e+00  -1.11966300e+00  -1.12230700e+00\n",
        "  -1.12495200e+00  -1.12759600e+00  -1.13024100e+00  -1.13288600e+00\n",
        "  -1.13553000e+00  -1.13817500e+00  -1.14081900e+00  -1.14346400e+00\n",
        "  -1.14610800e+00  -1.14875300e+00  -1.15139800e+00  -1.15404200e+00\n",
        "  -1.15668700e+00  -1.15933100e+00  -1.16197600e+00  -1.16462000e+00\n",
        "  -1.16726500e+00  -1.16991000e+00  -1.17255400e+00  -1.17519900e+00\n",
        "  -1.17784300e+00  -1.18048800e+00  -1.18313200e+00  -1.18577700e+00\n",
        "  -1.18842200e+00  -1.19106600e+00  -1.19371100e+00  -1.19635500e+00\n",
        "  -1.19900000e+00  -1.20164400e+00  -1.20428900e+00  -1.20693400e+00\n",
        "  -1.20957800e+00  -1.21222300e+00  -1.21486700e+00  -1.21751200e+00\n",
        "  -1.22015600e+00  -1.22280100e+00  -1.22544600e+00  -1.22809000e+00\n",
        "  -1.23073500e+00  -1.23337900e+00  -1.23602400e+00  -1.23866800e+00\n",
        "  -1.24131300e+00  -1.24395800e+00  -1.24660200e+00  -1.24924700e+00\n",
        "  -1.25189100e+00  -1.25453600e+00  -1.25718000e+00  -1.25982500e+00\n",
        "  -1.26247000e+00  -1.26511400e+00   0.00000000e+00]\n"
       ]
      }
     ],
     "prompt_number": 11
    },
    {
     "cell_type": "code",
     "collapsed": false,
     "input": [
      "for i in range(len(x1)-1):\n",
      "    graf=figure()\n",
      "    xlim([amin(x1),amax(x1)])\n",
      "    ylim([amin(y1),amax(y1)])\n",
      "    scatter(x1[i],y1[i])\n",
      "    savefig(str(100+i)+\".png\")\n",
      "    close(graf)"
     ],
     "language": "python",
     "metadata": {},
     "outputs": [],
     "prompt_number": 13
    },
    {
     "cell_type": "code",
     "collapsed": false,
     "input": [],
     "language": "python",
     "metadata": {},
     "outputs": []
    }
   ],
   "metadata": {}
  }
 ]
}