{
 "metadata": {
  "name": ""
 },
 "nbformat": 3,
 "nbformat_minor": 0,
 "worksheets": [
  {
   "cells": [
    {
     "cell_type": "code",
     "collapsed": false,
     "input": [
      "%pylab inline\n",
      "from scipy.optimize import root"
     ],
     "language": "python",
     "metadata": {},
     "outputs": [
      {
       "output_type": "stream",
       "stream": "stdout",
       "text": [
        "Populating the interactive namespace from numpy and matplotlib\n"
       ]
      }
     ],
     "prompt_number": 1
    },
    {
     "cell_type": "code",
     "collapsed": false,
     "input": [
      "Mj=1.899*pow(10,27)\n",
      "Mi=8.94*pow(10,22)\n",
      "R=421600\n"
     ],
     "language": "python",
     "metadata": {},
     "outputs": [],
     "prompt_number": 20
    },
    {
     "cell_type": "code",
     "collapsed": false,
     "input": [
      "def Punto1(r):\n",
      "    return Mi/r**2+(Mj/(Mj+Mi)*R-r)*(Mj+Mi)/R**3-Mj/(R-r)**2"
     ],
     "language": "python",
     "metadata": {},
     "outputs": [],
     "prompt_number": 21
    },
    {
     "cell_type": "code",
     "collapsed": false,
     "input": [
      "sol=root(Punto1,1)\n",
      "print sol"
     ],
     "language": "python",
     "metadata": {},
     "outputs": [
      {
       "output_type": "stream",
       "stream": "stdout",
       "text": [
        "  status: 1\n",
        " success: True\n",
        "     qtf: array([-74114.])\n",
        "    nfev: 41\n",
        "       r: array([  2.35945856e+11])\n",
        "     fun: array([-6.])\n",
        "       x: array([ 10466.28343692])\n",
        " message: 'The solution converged.'\n",
        "    fjac: array([[-1.]])\n"
       ]
      }
     ],
     "prompt_number": 26
    },
    {
     "cell_type": "code",
     "collapsed": false,
     "input": [
      "def aprox(r):\n",
      "    return R*pow(Mi/3/Mj,1./3.)-r"
     ],
     "language": "python",
     "metadata": {},
     "outputs": [],
     "prompt_number": 27
    },
    {
     "cell_type": "code",
     "collapsed": false,
     "input": [
      "sol2=root(aprox,1)\n",
      "print sol2"
     ],
     "language": "python",
     "metadata": {},
     "outputs": [
      {
       "output_type": "stream",
       "stream": "stdout",
       "text": [
        "  status: 1\n",
        " success: True\n",
        "     qtf: array([-4254.14900774])\n",
        "    nfev: 9\n",
        "       r: array([ 1.])\n",
        "     fun: array([ 0.])\n",
        "       x: array([ 10555.14900774])\n",
        " message: 'The solution converged.'\n",
        "    fjac: array([[-1.]])\n"
       ]
      }
     ],
     "prompt_number": 28
    },
    {
     "cell_type": "code",
     "collapsed": false,
     "input": [],
     "language": "python",
     "metadata": {},
     "outputs": []
    }
   ],
   "metadata": {}
  }
 ]
}