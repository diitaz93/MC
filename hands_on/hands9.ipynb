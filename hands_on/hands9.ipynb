{
 "metadata": {
  "name": ""
 },
 "nbformat": 3,
 "nbformat_minor": 0,
 "worksheets": [
  {
   "cells": [
    {
     "cell_type": "code",
     "collapsed": false,
     "input": [
      "%pylab inline"
     ],
     "language": "python",
     "metadata": {},
     "outputs": [
      {
       "output_type": "stream",
       "stream": "stdout",
       "text": [
        "Populating the interactive namespace from numpy and matplotlib\n"
       ]
      }
     ],
     "prompt_number": 1
    },
    {
     "cell_type": "markdown",
     "metadata": {},
     "source": [
      "#Definici\u00f3n\n",
      "La funci\u00f3n es **peri\u00f3dica** con periodo **3**, definida como $f(x)=x$ para $0\\leq x<1$ y $f(x)=-\\frac{1}{2} x +\\frac{3}{2}$ para $1\\leq x<3$\n",
      "\n",
      "La funci\u00f3n no tiene paridad definida"
     ]
    },
    {
     "cell_type": "code",
     "collapsed": false,
     "input": [
      "fun1=poly1d([1,0])\n",
      "fun2=poly1d([-0.5,1.5])\n",
      "print fun1\n",
      "print fun2"
     ],
     "language": "python",
     "metadata": {},
     "outputs": [
      {
       "output_type": "stream",
       "stream": "stdout",
       "text": [
        " \n",
        "1 x\n",
        " \n",
        "-0.5 x + 1.5\n"
       ]
      }
     ],
     "prompt_number": 4
    },
    {
     "cell_type": "code",
     "collapsed": false,
     "input": [
      "def func1(x):\n",
      "    return fun1(x)*exp(2*pi*x)\n"
     ],
     "language": "python",
     "metadata": {},
     "outputs": [],
     "prompt_number": 5
    },
    {
     "cell_type": "code",
     "collapsed": false,
     "input": [],
     "language": "python",
     "metadata": {},
     "outputs": []
    }
   ],
   "metadata": {}
  }
 ]
}